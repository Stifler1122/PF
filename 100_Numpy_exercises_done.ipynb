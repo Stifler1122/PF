{
  "cells": [
    {
      "cell_type": "markdown",
      "id": "6293cc50",
      "metadata": {
        "id": "6293cc50"
      },
      "source": [
        "# 100 numpy exercises\n",
        "\n",
        "This is a collection of exercises that have been collected in the numpy mailing list, on stack overflow\n",
        "and in the numpy documentation. The goal of this collection is to offer a quick reference for both old\n",
        "and new users but also to provide a set of exercises for those who teach.\n",
        "\n",
        "\n",
        "If you find an error or think you've a better way to solve some of them, feel\n",
        "free to open an issue at <https://github.com/rougier/numpy-100>."
      ]
    },
    {
      "cell_type": "markdown",
      "id": "a167c052",
      "metadata": {
        "id": "a167c052"
      },
      "source": [
        "File automatically generated. See the documentation to update questions/answers/hints programmatically."
      ]
    },
    {
      "cell_type": "markdown",
      "id": "57fc0ee5",
      "metadata": {
        "id": "57fc0ee5"
      },
      "source": [
        "Run the `initialize.py` module, then for each question you can query the\n",
        "answer or an hint with `hint(n)` or `answer(n)` for `n` question number."
      ]
    },
    {
      "cell_type": "code",
      "execution_count": 1,
      "id": "3d46fba2",
      "metadata": {
        "id": "3d46fba2",
        "outputId": "ca767ac8-1f38-46e6-8b0c-df7e7a86213a",
        "colab": {
          "base_uri": "https://localhost:8080/",
          "height": 468
        }
      },
      "outputs": [
        {
          "output_type": "error",
          "ename": "Exception",
          "evalue": "ignored",
          "traceback": [
            "\u001b[0;31m---------------------------------------------------------------------------\u001b[0m",
            "\u001b[0;31mOSError\u001b[0m                                   Traceback (most recent call last)",
            "\u001b[0;32m/usr/local/lib/python3.10/dist-packages/IPython/core/magics/execution.py\u001b[0m in \u001b[0;36mrun\u001b[0;34m(self, parameter_s, runner, file_finder)\u001b[0m\n\u001b[1;32m    713\u001b[0m             \u001b[0mfpath\u001b[0m \u001b[0;34m=\u001b[0m \u001b[0marg_lst\u001b[0m\u001b[0;34m[\u001b[0m\u001b[0;36m0\u001b[0m\u001b[0;34m]\u001b[0m\u001b[0;34m\u001b[0m\u001b[0;34m\u001b[0m\u001b[0m\n\u001b[0;32m--> 714\u001b[0;31m             \u001b[0mfilename\u001b[0m \u001b[0;34m=\u001b[0m \u001b[0mfile_finder\u001b[0m\u001b[0;34m(\u001b[0m\u001b[0mfpath\u001b[0m\u001b[0;34m)\u001b[0m\u001b[0;34m\u001b[0m\u001b[0;34m\u001b[0m\u001b[0m\n\u001b[0m\u001b[1;32m    715\u001b[0m         \u001b[0;32mexcept\u001b[0m \u001b[0mIndexError\u001b[0m\u001b[0;34m:\u001b[0m\u001b[0;34m\u001b[0m\u001b[0;34m\u001b[0m\u001b[0m\n",
            "\u001b[0;32m/usr/local/lib/python3.10/dist-packages/IPython/utils/path.py\u001b[0m in \u001b[0;36mget_py_filename\u001b[0;34m(name, force_win32)\u001b[0m\n\u001b[1;32m    108\u001b[0m     \u001b[0;32melse\u001b[0m\u001b[0;34m:\u001b[0m\u001b[0;34m\u001b[0m\u001b[0;34m\u001b[0m\u001b[0m\n\u001b[0;32m--> 109\u001b[0;31m         \u001b[0;32mraise\u001b[0m \u001b[0mIOError\u001b[0m\u001b[0;34m(\u001b[0m\u001b[0;34m'File `%r` not found.'\u001b[0m \u001b[0;34m%\u001b[0m \u001b[0mname\u001b[0m\u001b[0;34m)\u001b[0m\u001b[0;34m\u001b[0m\u001b[0;34m\u001b[0m\u001b[0m\n\u001b[0m\u001b[1;32m    110\u001b[0m \u001b[0;34m\u001b[0m\u001b[0m\n",
            "\u001b[0;31mOSError\u001b[0m: File `'initialise.py'` not found.",
            "\nDuring handling of the above exception, another exception occurred:\n",
            "\u001b[0;31mException\u001b[0m                                 Traceback (most recent call last)",
            "\u001b[0;32m<ipython-input-1-79a9b8b96c92>\u001b[0m in \u001b[0;36m<cell line: 1>\u001b[0;34m()\u001b[0m\n\u001b[0;32m----> 1\u001b[0;31m \u001b[0mget_ipython\u001b[0m\u001b[0;34m(\u001b[0m\u001b[0;34m)\u001b[0m\u001b[0;34m.\u001b[0m\u001b[0mrun_line_magic\u001b[0m\u001b[0;34m(\u001b[0m\u001b[0;34m'run'\u001b[0m\u001b[0;34m,\u001b[0m \u001b[0;34m'initialise.py'\u001b[0m\u001b[0;34m)\u001b[0m\u001b[0;34m\u001b[0m\u001b[0;34m\u001b[0m\u001b[0m\n\u001b[0m",
            "\u001b[0;32m/usr/local/lib/python3.10/dist-packages/IPython/core/interactiveshell.py\u001b[0m in \u001b[0;36mrun_line_magic\u001b[0;34m(self, magic_name, line, _stack_depth)\u001b[0m\n\u001b[1;32m   2416\u001b[0m                 \u001b[0mkwargs\u001b[0m\u001b[0;34m[\u001b[0m\u001b[0;34m'local_ns'\u001b[0m\u001b[0;34m]\u001b[0m \u001b[0;34m=\u001b[0m \u001b[0mself\u001b[0m\u001b[0;34m.\u001b[0m\u001b[0mget_local_scope\u001b[0m\u001b[0;34m(\u001b[0m\u001b[0mstack_depth\u001b[0m\u001b[0;34m)\u001b[0m\u001b[0;34m\u001b[0m\u001b[0;34m\u001b[0m\u001b[0m\n\u001b[1;32m   2417\u001b[0m             \u001b[0;32mwith\u001b[0m \u001b[0mself\u001b[0m\u001b[0;34m.\u001b[0m\u001b[0mbuiltin_trap\u001b[0m\u001b[0;34m:\u001b[0m\u001b[0;34m\u001b[0m\u001b[0;34m\u001b[0m\u001b[0m\n\u001b[0;32m-> 2418\u001b[0;31m                 \u001b[0mresult\u001b[0m \u001b[0;34m=\u001b[0m \u001b[0mfn\u001b[0m\u001b[0;34m(\u001b[0m\u001b[0;34m*\u001b[0m\u001b[0margs\u001b[0m\u001b[0;34m,\u001b[0m \u001b[0;34m**\u001b[0m\u001b[0mkwargs\u001b[0m\u001b[0;34m)\u001b[0m\u001b[0;34m\u001b[0m\u001b[0;34m\u001b[0m\u001b[0m\n\u001b[0m\u001b[1;32m   2419\u001b[0m             \u001b[0;32mreturn\u001b[0m \u001b[0mresult\u001b[0m\u001b[0;34m\u001b[0m\u001b[0;34m\u001b[0m\u001b[0m\n\u001b[1;32m   2420\u001b[0m \u001b[0;34m\u001b[0m\u001b[0m\n",
            "\u001b[0;32m<decorator-gen-52>\u001b[0m in \u001b[0;36mrun\u001b[0;34m(self, parameter_s, runner, file_finder)\u001b[0m\n",
            "\u001b[0;32m/usr/local/lib/python3.10/dist-packages/IPython/core/magic.py\u001b[0m in \u001b[0;36m<lambda>\u001b[0;34m(f, *a, **k)\u001b[0m\n\u001b[1;32m    185\u001b[0m     \u001b[0;31m# but it's overkill for just that one bit of state.\u001b[0m\u001b[0;34m\u001b[0m\u001b[0;34m\u001b[0m\u001b[0m\n\u001b[1;32m    186\u001b[0m     \u001b[0;32mdef\u001b[0m \u001b[0mmagic_deco\u001b[0m\u001b[0;34m(\u001b[0m\u001b[0marg\u001b[0m\u001b[0;34m)\u001b[0m\u001b[0;34m:\u001b[0m\u001b[0;34m\u001b[0m\u001b[0;34m\u001b[0m\u001b[0m\n\u001b[0;32m--> 187\u001b[0;31m         \u001b[0mcall\u001b[0m \u001b[0;34m=\u001b[0m \u001b[0;32mlambda\u001b[0m \u001b[0mf\u001b[0m\u001b[0;34m,\u001b[0m \u001b[0;34m*\u001b[0m\u001b[0ma\u001b[0m\u001b[0;34m,\u001b[0m \u001b[0;34m**\u001b[0m\u001b[0mk\u001b[0m\u001b[0;34m:\u001b[0m \u001b[0mf\u001b[0m\u001b[0;34m(\u001b[0m\u001b[0;34m*\u001b[0m\u001b[0ma\u001b[0m\u001b[0;34m,\u001b[0m \u001b[0;34m**\u001b[0m\u001b[0mk\u001b[0m\u001b[0;34m)\u001b[0m\u001b[0;34m\u001b[0m\u001b[0;34m\u001b[0m\u001b[0m\n\u001b[0m\u001b[1;32m    188\u001b[0m \u001b[0;34m\u001b[0m\u001b[0m\n\u001b[1;32m    189\u001b[0m         \u001b[0;32mif\u001b[0m \u001b[0mcallable\u001b[0m\u001b[0;34m(\u001b[0m\u001b[0marg\u001b[0m\u001b[0;34m)\u001b[0m\u001b[0;34m:\u001b[0m\u001b[0;34m\u001b[0m\u001b[0;34m\u001b[0m\u001b[0m\n",
            "\u001b[0;32m/usr/local/lib/python3.10/dist-packages/IPython/core/magics/execution.py\u001b[0m in \u001b[0;36mrun\u001b[0;34m(self, parameter_s, runner, file_finder)\u001b[0m\n\u001b[1;32m    723\u001b[0m             \u001b[0;32mif\u001b[0m \u001b[0mos\u001b[0m\u001b[0;34m.\u001b[0m\u001b[0mname\u001b[0m \u001b[0;34m==\u001b[0m \u001b[0;34m'nt'\u001b[0m \u001b[0;32mand\u001b[0m \u001b[0mre\u001b[0m\u001b[0;34m.\u001b[0m\u001b[0mmatch\u001b[0m\u001b[0;34m(\u001b[0m\u001b[0;34mr\"^'.*'$\"\u001b[0m\u001b[0;34m,\u001b[0m\u001b[0mfpath\u001b[0m\u001b[0;34m)\u001b[0m\u001b[0;34m:\u001b[0m\u001b[0;34m\u001b[0m\u001b[0;34m\u001b[0m\u001b[0m\n\u001b[1;32m    724\u001b[0m                 \u001b[0mwarn\u001b[0m\u001b[0;34m(\u001b[0m\u001b[0;34m'For Windows, use double quotes to wrap a filename: %run \"mypath\\\\myfile.py\"'\u001b[0m\u001b[0;34m)\u001b[0m\u001b[0;34m\u001b[0m\u001b[0;34m\u001b[0m\u001b[0m\n\u001b[0;32m--> 725\u001b[0;31m             \u001b[0;32mraise\u001b[0m \u001b[0mException\u001b[0m\u001b[0;34m(\u001b[0m\u001b[0mmsg\u001b[0m\u001b[0;34m)\u001b[0m\u001b[0;34m\u001b[0m\u001b[0;34m\u001b[0m\u001b[0m\n\u001b[0m\u001b[1;32m    726\u001b[0m         \u001b[0;32mexcept\u001b[0m \u001b[0mTypeError\u001b[0m\u001b[0;34m:\u001b[0m\u001b[0;34m\u001b[0m\u001b[0;34m\u001b[0m\u001b[0m\n\u001b[1;32m    727\u001b[0m             \u001b[0;32mif\u001b[0m \u001b[0mfpath\u001b[0m \u001b[0;32min\u001b[0m \u001b[0msys\u001b[0m\u001b[0;34m.\u001b[0m\u001b[0mmeta_path\u001b[0m\u001b[0;34m:\u001b[0m\u001b[0;34m\u001b[0m\u001b[0;34m\u001b[0m\u001b[0m\n",
            "\u001b[0;31mException\u001b[0m: File `'initialise.py'` not found."
          ]
        }
      ],
      "source": [
        "%run initialise.py"
      ]
    },
    {
      "cell_type": "markdown",
      "id": "3c1222ff",
      "metadata": {
        "id": "3c1222ff"
      },
      "source": [
        "#### 1. Import the numpy package under the name `np` (★☆☆)"
      ]
    },
    {
      "cell_type": "code",
      "execution_count": 2,
      "id": "f52e6a0b",
      "metadata": {
        "id": "f52e6a0b"
      },
      "outputs": [],
      "source": [
        "import numpy as np"
      ]
    },
    {
      "cell_type": "markdown",
      "id": "9d9f4753",
      "metadata": {
        "id": "9d9f4753"
      },
      "source": [
        "#### 2. Print the numpy version and the configuration (★☆☆)"
      ]
    },
    {
      "cell_type": "code",
      "execution_count": 3,
      "id": "b7fa5fa1",
      "metadata": {
        "id": "b7fa5fa1",
        "outputId": "f601fba3-c8dd-4b74-bcc8-46f0ab9d5578",
        "colab": {
          "base_uri": "https://localhost:8080/"
        }
      },
      "outputs": [
        {
          "output_type": "execute_result",
          "data": {
            "text/plain": [
              "<module 'numpy' from '/usr/local/lib/python3.10/dist-packages/numpy/__init__.py'>"
            ]
          },
          "metadata": {},
          "execution_count": 3
        }
      ],
      "source": [
        "np"
      ]
    },
    {
      "cell_type": "markdown",
      "id": "3e4c23c6",
      "metadata": {
        "id": "3e4c23c6"
      },
      "source": [
        "#### 3. Create a null vector of size 10 (★☆☆)"
      ]
    },
    {
      "cell_type": "code",
      "execution_count": 6,
      "id": "083c5c46",
      "metadata": {
        "id": "083c5c46"
      },
      "outputs": [],
      "source": [
        "a=np.zeros(10)"
      ]
    },
    {
      "cell_type": "markdown",
      "id": "c38bbe82",
      "metadata": {
        "id": "c38bbe82"
      },
      "source": [
        "#### 4. How to find the memory size of any array (★☆☆)"
      ]
    },
    {
      "cell_type": "code",
      "execution_count": 7,
      "id": "02b04021",
      "metadata": {
        "id": "02b04021",
        "outputId": "72812774-d428-4578-fcb7-da551e88570d",
        "colab": {
          "base_uri": "https://localhost:8080/"
        }
      },
      "outputs": [
        {
          "output_type": "execute_result",
          "data": {
            "text/plain": [
              "80"
            ]
          },
          "metadata": {},
          "execution_count": 7
        }
      ],
      "source": [
        "a.nbytes"
      ]
    },
    {
      "cell_type": "markdown",
      "id": "67f893d4",
      "metadata": {
        "id": "67f893d4"
      },
      "source": [
        "#### 5. How to get the documentation of the numpy add function from the command line? (★☆☆)"
      ]
    },
    {
      "cell_type": "code",
      "execution_count": 8,
      "id": "40e6b70d",
      "metadata": {
        "id": "40e6b70d",
        "colab": {
          "base_uri": "https://localhost:8080/"
        },
        "outputId": "152ae7f4-e907-4e11-f9d8-19798981a11e"
      },
      "outputs": [
        {
          "output_type": "stream",
          "name": "stdout",
          "text": [
            "Help on ufunc:\n",
            "\n",
            "add = <ufunc 'add'>\n",
            "    add(x1, x2, /, out=None, *, where=True, casting='same_kind', order='K', dtype=None, subok=True[, signature, extobj])\n",
            "    \n",
            "    Add arguments element-wise.\n",
            "    \n",
            "    Parameters\n",
            "    ----------\n",
            "    x1, x2 : array_like\n",
            "        The arrays to be added.\n",
            "        If ``x1.shape != x2.shape``, they must be broadcastable to a common\n",
            "        shape (which becomes the shape of the output).\n",
            "    out : ndarray, None, or tuple of ndarray and None, optional\n",
            "        A location into which the result is stored. If provided, it must have\n",
            "        a shape that the inputs broadcast to. If not provided or None,\n",
            "        a freshly-allocated array is returned. A tuple (possible only as a\n",
            "        keyword argument) must have length equal to the number of outputs.\n",
            "    where : array_like, optional\n",
            "        This condition is broadcast over the input. At locations where the\n",
            "        condition is True, the `out` array will be set to the ufunc result.\n",
            "        Elsewhere, the `out` array will retain its original value.\n",
            "        Note that if an uninitialized `out` array is created via the default\n",
            "        ``out=None``, locations within it where the condition is False will\n",
            "        remain uninitialized.\n",
            "    **kwargs\n",
            "        For other keyword-only arguments, see the\n",
            "        :ref:`ufunc docs <ufuncs.kwargs>`.\n",
            "    \n",
            "    Returns\n",
            "    -------\n",
            "    add : ndarray or scalar\n",
            "        The sum of `x1` and `x2`, element-wise.\n",
            "        This is a scalar if both `x1` and `x2` are scalars.\n",
            "    \n",
            "    Notes\n",
            "    -----\n",
            "    Equivalent to `x1` + `x2` in terms of array broadcasting.\n",
            "    \n",
            "    Examples\n",
            "    --------\n",
            "    >>> np.add(1.0, 4.0)\n",
            "    5.0\n",
            "    >>> x1 = np.arange(9.0).reshape((3, 3))\n",
            "    >>> x2 = np.arange(3.0)\n",
            "    >>> np.add(x1, x2)\n",
            "    array([[  0.,   2.,   4.],\n",
            "           [  3.,   5.,   7.],\n",
            "           [  6.,   8.,  10.]])\n",
            "    \n",
            "    The ``+`` operator can be used as a shorthand for ``np.add`` on ndarrays.\n",
            "    \n",
            "    >>> x1 = np.arange(9.0).reshape((3, 3))\n",
            "    >>> x2 = np.arange(3.0)\n",
            "    >>> x1 + x2\n",
            "    array([[ 0.,  2.,  4.],\n",
            "           [ 3.,  5.,  7.],\n",
            "           [ 6.,  8., 10.]])\n",
            "\n"
          ]
        }
      ],
      "source": [
        "help(np.add)\n"
      ]
    },
    {
      "cell_type": "markdown",
      "id": "e0c739c6",
      "metadata": {
        "id": "e0c739c6"
      },
      "source": [
        "#### 6. Create a null vector of size 10 but the fifth value which is 1 (★☆☆)"
      ]
    },
    {
      "cell_type": "code",
      "execution_count": 9,
      "id": "bcceacf7",
      "metadata": {
        "id": "bcceacf7",
        "colab": {
          "base_uri": "https://localhost:8080/"
        },
        "outputId": "f2a90765-5f51-43dd-da82-9ed3548a3533"
      },
      "outputs": [
        {
          "output_type": "stream",
          "name": "stdout",
          "text": [
            "[0. 0. 0. 0. 1. 0. 0. 0. 0. 0.]\n"
          ]
        }
      ],
      "source": [
        "\n",
        "\n",
        "\n",
        "null_vector = np.zeros(10)\n",
        "null_vector[4] = 1\n",
        "\n",
        "print(null_vector)\n"
      ]
    },
    {
      "cell_type": "markdown",
      "id": "fbebedab",
      "metadata": {
        "id": "fbebedab"
      },
      "source": [
        "#### 7. Create a vector with values ranging from 10 to 49 (★☆☆)"
      ]
    },
    {
      "cell_type": "code",
      "execution_count": 12,
      "id": "3d117d54",
      "metadata": {
        "id": "3d117d54",
        "colab": {
          "base_uri": "https://localhost:8080/"
        },
        "outputId": "d47a3920-4086-47d6-91fd-30be1f513613"
      },
      "outputs": [
        {
          "output_type": "execute_result",
          "data": {
            "text/plain": [
              "array([10, 11, 12, 13, 14, 15, 16, 17, 18, 19, 20, 21, 22, 23, 24, 25, 26,\n",
              "       27, 28, 29, 30, 31, 32, 33, 34, 35, 36, 37, 38, 39, 40, 41, 42, 43,\n",
              "       44, 45, 46, 47, 48, 49])"
            ]
          },
          "metadata": {},
          "execution_count": 12
        }
      ],
      "source": [
        "np.arange(10,50)"
      ]
    },
    {
      "cell_type": "markdown",
      "id": "ad0bff02",
      "metadata": {
        "id": "ad0bff02"
      },
      "source": [
        "#### 8. Reverse a vector (first element becomes last) (★☆☆)"
      ]
    },
    {
      "cell_type": "code",
      "execution_count": 13,
      "id": "22d23470",
      "metadata": {
        "id": "22d23470",
        "colab": {
          "base_uri": "https://localhost:8080/"
        },
        "outputId": "d82be590-56d0-48f4-cdfd-88613eb01b29"
      },
      "outputs": [
        {
          "output_type": "execute_result",
          "data": {
            "text/plain": [
              "array([5, 4, 3, 2, 1])"
            ]
          },
          "metadata": {},
          "execution_count": 13
        }
      ],
      "source": [
        "a = np.array([1,2,3,4,5])\n",
        "reverse = a[::-1]\n",
        "reverse"
      ]
    },
    {
      "cell_type": "markdown",
      "id": "9f59d7e1",
      "metadata": {
        "id": "9f59d7e1"
      },
      "source": [
        "#### 9. Create a 3x3 matrix with values ranging from 0 to 8 (★☆☆)"
      ]
    },
    {
      "cell_type": "code",
      "execution_count": 14,
      "id": "7449e82d",
      "metadata": {
        "id": "7449e82d",
        "colab": {
          "base_uri": "https://localhost:8080/"
        },
        "outputId": "d7695a74-ac62-4b25-9883-930957d4c441"
      },
      "outputs": [
        {
          "output_type": "execute_result",
          "data": {
            "text/plain": [
              "array([[0, 1, 2],\n",
              "       [3, 4, 5],\n",
              "       [6, 7, 8]])"
            ]
          },
          "metadata": {},
          "execution_count": 14
        }
      ],
      "source": [
        "a= np.arange(0,9)\n",
        "re= a.reshape(3,3)\n",
        "re"
      ]
    },
    {
      "cell_type": "markdown",
      "id": "f374c4cf",
      "metadata": {
        "id": "f374c4cf"
      },
      "source": [
        "#### 10. Find indices of non-zero elements from [1,2,0,0,4,0] (★☆☆)"
      ]
    },
    {
      "cell_type": "code",
      "execution_count": 19,
      "id": "1a84bed8",
      "metadata": {
        "id": "1a84bed8",
        "colab": {
          "base_uri": "https://localhost:8080/"
        },
        "outputId": "ac748509-ac49-4d00-d2c9-7b62e093b9d4"
      },
      "outputs": [
        {
          "output_type": "stream",
          "name": "stdout",
          "text": [
            "0\n",
            "1\n",
            "4\n"
          ]
        }
      ],
      "source": [
        "a = [1,2,0,0,4,0]\n",
        "for i,v in enumerate(a):\n",
        "  if v!=0:\n",
        "    print(i)"
      ]
    },
    {
      "cell_type": "code",
      "source": [
        "a=np.array([1,2,0,0,4,0])\n",
        "b=np.nonzero(a)\n",
        "b"
      ],
      "metadata": {
        "colab": {
          "base_uri": "https://localhost:8080/"
        },
        "id": "h2RuY9JdUVnu",
        "outputId": "97f3bab0-5bc6-4413-ed5f-736a47d7d66c"
      },
      "id": "h2RuY9JdUVnu",
      "execution_count": 22,
      "outputs": [
        {
          "output_type": "execute_result",
          "data": {
            "text/plain": [
              "(array([0, 1, 4]),)"
            ]
          },
          "metadata": {},
          "execution_count": 22
        }
      ]
    },
    {
      "cell_type": "markdown",
      "id": "9c4707f5",
      "metadata": {
        "id": "9c4707f5"
      },
      "source": [
        "#### 11. Create a 3x3 identity matrix (★☆☆)"
      ]
    },
    {
      "cell_type": "code",
      "execution_count": 23,
      "id": "29dc1fd3",
      "metadata": {
        "id": "29dc1fd3",
        "colab": {
          "base_uri": "https://localhost:8080/"
        },
        "outputId": "9ef2f9b3-dd50-40ba-bdfe-315aa125411c"
      },
      "outputs": [
        {
          "output_type": "stream",
          "name": "stdout",
          "text": [
            "[[1. 0. 0.]\n",
            " [0. 1. 0.]\n",
            " [0. 0. 1.]]\n"
          ]
        }
      ],
      "source": [
        "\n",
        "\n",
        "# Create a 3x3 identity matrix using identity function\n",
        "identity_matrix = np.identity(3)\n",
        "\n",
        "print(identity_matrix)\n"
      ]
    },
    {
      "cell_type": "markdown",
      "id": "3bac294a",
      "metadata": {
        "id": "3bac294a"
      },
      "source": [
        "#### 12. Create a 3x3x3 array with random values (★☆☆)"
      ]
    },
    {
      "cell_type": "code",
      "execution_count": 28,
      "id": "eadfae67",
      "metadata": {
        "id": "eadfae67",
        "colab": {
          "base_uri": "https://localhost:8080/"
        },
        "outputId": "79567deb-561b-4ecf-db44-a096b95bef3e"
      },
      "outputs": [
        {
          "output_type": "execute_result",
          "data": {
            "text/plain": [
              "array([[[0.06218259, 0.89107517, 0.49573225],\n",
              "        [0.93560741, 0.41688951, 0.08011591],\n",
              "        [0.75729473, 0.92529477, 0.90642935]],\n",
              "\n",
              "       [[0.01290653, 0.4456021 , 0.20984299],\n",
              "        [0.22693784, 0.05538658, 0.44016884],\n",
              "        [0.81660983, 0.99218895, 0.45136187]],\n",
              "\n",
              "       [[0.32184792, 0.51691538, 0.06550312],\n",
              "        [0.55269865, 0.98334739, 0.04645608],\n",
              "        [0.62109452, 0.93968052, 0.32512429]]])"
            ]
          },
          "metadata": {},
          "execution_count": 28
        }
      ],
      "source": [
        "a = np.random.rand(3,3,3)\n",
        "a\n",
        "\n"
      ]
    },
    {
      "cell_type": "markdown",
      "id": "466c2989",
      "metadata": {
        "id": "466c2989"
      },
      "source": [
        "#### 13. Create a 10x10 array with random values and find the minimum and maximum values (★☆☆)"
      ]
    },
    {
      "cell_type": "code",
      "execution_count": 35,
      "id": "9a74dbfc",
      "metadata": {
        "id": "9a74dbfc",
        "colab": {
          "base_uri": "https://localhost:8080/"
        },
        "outputId": "4b1ed243-6423-4281-f69a-a779fa17b1d2"
      },
      "outputs": [
        {
          "output_type": "execute_result",
          "data": {
            "text/plain": [
              "0.03629222692549883"
            ]
          },
          "metadata": {},
          "execution_count": 35
        }
      ],
      "source": [
        "a= np.random.rand(10,10)\n",
        "a\n",
        "np.max(a)\n",
        "np.min(a)"
      ]
    },
    {
      "cell_type": "markdown",
      "id": "53a8edb2",
      "metadata": {
        "id": "53a8edb2"
      },
      "source": [
        "#### 14. Create a random vector of size 30 and find the mean value (★☆☆)"
      ]
    },
    {
      "cell_type": "code",
      "execution_count": 38,
      "id": "6691530b",
      "metadata": {
        "id": "6691530b",
        "colab": {
          "base_uri": "https://localhost:8080/"
        },
        "outputId": "4a8dd087-1b8f-485b-a86c-0a2709d408cc"
      },
      "outputs": [
        {
          "output_type": "execute_result",
          "data": {
            "text/plain": [
              "0.4671818034331341"
            ]
          },
          "metadata": {},
          "execution_count": 38
        }
      ],
      "source": [
        "a= np.random.rand(30)\n",
        "np.mean(a)"
      ]
    },
    {
      "cell_type": "markdown",
      "id": "cbaad31c",
      "metadata": {
        "id": "cbaad31c"
      },
      "source": [
        "#### 15. Create a 2d array with 1 on the border and 0 inside (★☆☆)"
      ]
    },
    {
      "cell_type": "code",
      "execution_count": 42,
      "id": "ad8308e3",
      "metadata": {
        "id": "ad8308e3",
        "colab": {
          "base_uri": "https://localhost:8080/"
        },
        "outputId": "ca6bd144-55d6-49a0-874f-447eb5f1d3ff"
      },
      "outputs": [
        {
          "output_type": "stream",
          "name": "stdout",
          "text": [
            "[[1 1 1 1 1]\n",
            " [1 0 0 0 1]\n",
            " [1 0 0 0 1]\n",
            " [1 0 0 0 1]\n",
            " [1 1 1 1 1]]\n"
          ]
        }
      ],
      "source": [
        "# Create a 2D array filled with zeros\n",
        "array_2d = np.zeros((5, 5), dtype=int)\n",
        "\n",
        "# Set the border elements to 1\n",
        "array_2d[0, :] = 1  # Top row\n",
        "array_2d[-1, :] = 1  # Bottom row\n",
        "array_2d[:, 0] = 1  # Leftmost column\n",
        "array_2d[:, -1] = 1  # Rightmost column\n",
        "\n",
        "print(array_2d)"
      ]
    },
    {
      "cell_type": "markdown",
      "id": "c5ecc267",
      "metadata": {
        "id": "c5ecc267"
      },
      "source": [
        "#### 16. How to add a border (filled with 0's) around an existing array? (★☆☆)"
      ]
    },
    {
      "cell_type": "code",
      "execution_count": 43,
      "id": "9d5c78c4",
      "metadata": {
        "id": "9d5c78c4",
        "colab": {
          "base_uri": "https://localhost:8080/"
        },
        "outputId": "3aa240eb-67fb-4584-ba5e-12f40ca8ca6b"
      },
      "outputs": [
        {
          "output_type": "stream",
          "name": "stdout",
          "text": [
            "Existing Array:\n",
            "[[1 2 3]\n",
            " [4 5 6]\n",
            " [7 8 9]]\n",
            "\n",
            "Array with Border:\n",
            "[[0 0 0 0 0]\n",
            " [0 1 2 3 0]\n",
            " [0 4 5 6 0]\n",
            " [0 7 8 9 0]\n",
            " [0 0 0 0 0]]\n"
          ]
        }
      ],
      "source": [
        "import numpy as np\n",
        "\n",
        "# Existing array\n",
        "existing_array = np.array([[1, 2, 3],\n",
        "                           [4, 5, 6],\n",
        "                           [7, 8, 9]])\n",
        "\n",
        "# Size of the border to add\n",
        "border_size = 1\n",
        "\n",
        "# Determine the new shape of the array with the border\n",
        "new_shape = (existing_array.shape[0] + 2 * border_size, existing_array.shape[1] + 2 * border_size)\n",
        "\n",
        "# Create a new array filled with zeros of the new shape\n",
        "new_array = np.zeros(new_shape, dtype=existing_array.dtype)\n",
        "\n",
        "# Copy the existing array into the center of the new array\n",
        "new_array[border_size:border_size+existing_array.shape[0], border_size:border_size+existing_array.shape[1]] = existing_array\n",
        "\n",
        "print(\"Existing Array:\")\n",
        "print(existing_array)\n",
        "\n",
        "print(\"\\nArray with Border:\")\n",
        "print(new_array)\n"
      ]
    },
    {
      "cell_type": "markdown",
      "id": "ef909b72",
      "metadata": {
        "id": "ef909b72"
      },
      "source": [
        "#### 17. What is the result of the following expression? (★☆☆)\n",
        "```python\n",
        "0 * np.nan\n",
        "np.nan == np.nan\n",
        "np.inf > np.nan\n",
        "np.nan - np.nan\n",
        "np.nan in set([np.nan])\n",
        "0.3 == 3 * 0.1\n",
        "```"
      ]
    },
    {
      "cell_type": "code",
      "execution_count": 44,
      "id": "3b4985f2",
      "metadata": {
        "id": "3b4985f2",
        "colab": {
          "base_uri": "https://localhost:8080/"
        },
        "outputId": "3b50c423-cf9c-4212-fad6-48a4de47b9d0"
      },
      "outputs": [
        {
          "output_type": "execute_result",
          "data": {
            "text/plain": [
              "False"
            ]
          },
          "metadata": {},
          "execution_count": 44
        }
      ],
      "source": [
        "0 * np.nan\n",
        "np.nan == np.nan\n",
        "np.inf > np.nan\n",
        "np.nan - np.nan\n",
        "np.nan in set([np.nan])\n",
        "0.3 == 3 * 0.1"
      ]
    },
    {
      "cell_type": "markdown",
      "id": "502738ac",
      "metadata": {
        "id": "502738ac"
      },
      "source": [
        "#### 18. Create a 5x5 matrix with values 1,2,3,4 just below the diagonal (★☆☆)"
      ]
    },
    {
      "cell_type": "code",
      "execution_count": 56,
      "id": "faed6e2b",
      "metadata": {
        "id": "faed6e2b",
        "colab": {
          "base_uri": "https://localhost:8080/"
        },
        "outputId": "e6b3d34f-8513-4e9e-abdb-d53401896bc6"
      },
      "outputs": [
        {
          "output_type": "stream",
          "name": "stdout",
          "text": [
            "[[0 0 0 0 0]\n",
            " [1 0 0 0 0]\n",
            " [0 2 0 0 0]\n",
            " [0 0 3 0 0]\n",
            " [0 0 0 4 0]]\n"
          ]
        }
      ],
      "source": [
        "\n",
        "\n",
        "# Create a 5x5 matrix filled with zeros\n",
        "matrix = np.zeros((5, 5), dtype=int)\n",
        "\n",
        "# Set values 1, 2, 3, 4 just below the diagonal\n",
        "np.fill_diagonal(matrix[1:], [1, 2, 3, 4])\n",
        "\n",
        "print(matrix)\n"
      ]
    },
    {
      "cell_type": "markdown",
      "id": "a65da660",
      "metadata": {
        "id": "a65da660"
      },
      "source": [
        "#### 19. Create a 8x8 matrix and fill it with a checkerboard pattern (★☆☆)"
      ]
    },
    {
      "cell_type": "code",
      "execution_count": 57,
      "id": "ed150400",
      "metadata": {
        "id": "ed150400",
        "colab": {
          "base_uri": "https://localhost:8080/"
        },
        "outputId": "05ded0b4-d126-4d74-c279-f852f749393d"
      },
      "outputs": [
        {
          "output_type": "stream",
          "name": "stdout",
          "text": [
            "[[0 1 0 1 0 1 0 1]\n",
            " [1 0 1 0 1 0 1 0]\n",
            " [0 1 0 1 0 1 0 1]\n",
            " [1 0 1 0 1 0 1 0]\n",
            " [0 1 0 1 0 1 0 1]\n",
            " [1 0 1 0 1 0 1 0]\n",
            " [0 1 0 1 0 1 0 1]\n",
            " [1 0 1 0 1 0 1 0]]\n"
          ]
        }
      ],
      "source": [
        "\n",
        "# Create an 8x8 matrix filled with zeros\n",
        "checkerboard_matrix = np.zeros((8, 8), dtype=int)\n",
        "\n",
        "# Set the checkerboard pattern\n",
        "checkerboard_matrix[1::2, ::2] = 1  # Odd rows, even columns\n",
        "checkerboard_matrix[::2, 1::2] = 1  # Even rows, odd columns\n",
        "\n",
        "print(checkerboard_matrix)\n"
      ]
    },
    {
      "cell_type": "markdown",
      "id": "9f7f9c49",
      "metadata": {
        "id": "9f7f9c49"
      },
      "source": [
        "#### 20. Consider a (6,7,8) shape array, what is the index (x,y,z) of the 100th element? (★☆☆)"
      ]
    },
    {
      "cell_type": "code",
      "execution_count": 58,
      "id": "3782b5a9",
      "metadata": {
        "id": "3782b5a9",
        "colab": {
          "base_uri": "https://localhost:8080/"
        },
        "outputId": "359df918-aad8-4fd0-bd62-ac1be24f0ed6"
      },
      "outputs": [
        {
          "output_type": "stream",
          "name": "stdout",
          "text": [
            "Index (x, y, z) of the 100th element: (1, 5, 4)\n"
          ]
        }
      ],
      "source": [
        "import numpy as np\n",
        "\n",
        "shape = (6, 7, 8)\n",
        "desired_element_index = 100\n",
        "\n",
        "# Calculate the indices (x, y, z) from the linear index\n",
        "x = desired_element_index // (shape[1] * shape[2])\n",
        "remainder = desired_element_index % (shape[1] * shape[2])\n",
        "y = remainder // shape[2]\n",
        "z = remainder % shape[2]\n",
        "\n",
        "print(\"Index (x, y, z) of the 100th element:\", (x, y, z))\n"
      ]
    },
    {
      "cell_type": "markdown",
      "id": "66bfda35",
      "metadata": {
        "id": "66bfda35"
      },
      "source": [
        "#### 21. Create a checkerboard 8x8 matrix using the tile function (★☆☆)"
      ]
    },
    {
      "cell_type": "code",
      "execution_count": 59,
      "id": "4c07477c",
      "metadata": {
        "id": "4c07477c",
        "colab": {
          "base_uri": "https://localhost:8080/"
        },
        "outputId": "b650708d-3abf-4bad-9031-99c7ac2b9108"
      },
      "outputs": [
        {
          "output_type": "stream",
          "name": "stdout",
          "text": [
            "[[0 1 0 1 0 1 0 1]\n",
            " [1 0 1 0 1 0 1 0]\n",
            " [0 1 0 1 0 1 0 1]\n",
            " [1 0 1 0 1 0 1 0]\n",
            " [0 1 0 1 0 1 0 1]\n",
            " [1 0 1 0 1 0 1 0]\n",
            " [0 1 0 1 0 1 0 1]\n",
            " [1 0 1 0 1 0 1 0]]\n"
          ]
        }
      ],
      "source": [
        "\n",
        "\n",
        "# Define the checkerboard pattern as a 2x2 matrix\n",
        "checkerboard_pattern = np.array([[0, 1], [1, 0]])\n",
        "\n",
        "# Create the 8x8 checkerboard matrix using tile\n",
        "checkerboard_matrix = np.tile(checkerboard_pattern, (4, 4))\n",
        "\n",
        "print(checkerboard_matrix)\n"
      ]
    },
    {
      "cell_type": "markdown",
      "id": "d5bcfc08",
      "metadata": {
        "id": "d5bcfc08"
      },
      "source": [
        "#### 22. Normalize a 5x5 random matrix (★☆☆)"
      ]
    },
    {
      "cell_type": "code",
      "execution_count": 60,
      "id": "cea6c993",
      "metadata": {
        "id": "cea6c993",
        "colab": {
          "base_uri": "https://localhost:8080/"
        },
        "outputId": "c7c563fd-11bd-46af-8d9b-c7eb6e14ecb4"
      },
      "outputs": [
        {
          "output_type": "stream",
          "name": "stdout",
          "text": [
            "Original Random Matrix:\n",
            "[[5.65292733e-01 8.46366823e-01 3.51271960e-01 3.17625892e-01\n",
            "  2.20064722e-01]\n",
            " [5.51360680e-01 2.97856796e-01 5.64595662e-01 6.63973685e-01\n",
            "  3.36101922e-01]\n",
            " [5.38353518e-01 1.25870037e-01 7.39102977e-01 8.74050171e-01\n",
            "  2.20022065e-01]\n",
            " [5.34813911e-01 4.83316592e-01 4.45681807e-01 2.13828180e-04\n",
            "  2.55522359e-01]\n",
            " [9.78438748e-02 5.67689100e-01 8.83741428e-01 6.57804894e-01\n",
            "  9.82903853e-01]]\n",
            "\n",
            "Normalized Matrix:\n",
            "[[0.57503271 0.86105789 0.35724198 0.32300324 0.22372354]\n",
            " [0.56085524 0.30288592 0.57432336 0.67545191 0.34180473]\n",
            " [0.54761896 0.12786963 0.7519046  0.88922887 0.22368013]\n",
            " [0.544017   0.49161257 0.45331485 0.         0.25980576]\n",
            " [0.09934979 0.57747129 0.89909084 0.66917446 1.        ]]\n"
          ]
        }
      ],
      "source": [
        "import numpy as np\n",
        "\n",
        "# Create a 5x5 random matrix\n",
        "random_matrix = np.random.rand(5, 5)\n",
        "\n",
        "# Find the minimum and maximum values in the matrix\n",
        "min_value = random_matrix.min()\n",
        "max_value = random_matrix.max()\n",
        "\n",
        "# Normalize the matrix to a range of [0, 1]\n",
        "normalized_matrix = (random_matrix - min_value) / (max_value - min_value)\n",
        "\n",
        "print(\"Original Random Matrix:\")\n",
        "print(random_matrix)\n",
        "\n",
        "print(\"\\nNormalized Matrix:\")\n",
        "print(normalized_matrix)\n"
      ]
    },
    {
      "cell_type": "markdown",
      "id": "f9a0911e",
      "metadata": {
        "id": "f9a0911e"
      },
      "source": [
        "#### 23. Create a custom dtype that describes a color as four unsigned bytes (RGBA) (★☆☆)"
      ]
    },
    {
      "cell_type": "code",
      "execution_count": null,
      "id": "d165044b",
      "metadata": {
        "id": "d165044b"
      },
      "outputs": [],
      "source": []
    },
    {
      "cell_type": "markdown",
      "id": "654805b1",
      "metadata": {
        "id": "654805b1"
      },
      "source": [
        "#### 24. Multiply a 5x3 matrix by a 3x2 matrix (real matrix product) (★☆☆)"
      ]
    },
    {
      "cell_type": "code",
      "execution_count": null,
      "id": "6a42619f",
      "metadata": {
        "id": "6a42619f"
      },
      "outputs": [],
      "source": []
    },
    {
      "cell_type": "markdown",
      "id": "994c25df",
      "metadata": {
        "id": "994c25df"
      },
      "source": [
        "#### 25. Given a 1D array, negate all elements which are between 3 and 8, in place. (★☆☆)"
      ]
    },
    {
      "cell_type": "code",
      "execution_count": null,
      "id": "e4b39c03",
      "metadata": {
        "id": "e4b39c03"
      },
      "outputs": [],
      "source": []
    },
    {
      "cell_type": "markdown",
      "id": "b7d15d1a",
      "metadata": {
        "id": "b7d15d1a"
      },
      "source": [
        "#### 26. What is the output of the following script? (★☆☆)\n",
        "```python\n",
        "# Author: Jake VanderPlas\n",
        "\n",
        "print(sum(range(5),-1))\n",
        "from numpy import *\n",
        "print(sum(range(5),-1))\n",
        "```"
      ]
    },
    {
      "cell_type": "code",
      "execution_count": null,
      "id": "4c95bc3f",
      "metadata": {
        "id": "4c95bc3f"
      },
      "outputs": [],
      "source": []
    },
    {
      "cell_type": "markdown",
      "id": "a34f0d08",
      "metadata": {
        "id": "a34f0d08"
      },
      "source": [
        "#### 27. Consider an integer vector Z, which of these expressions are legal? (★☆☆)\n",
        "```python\n",
        "Z**Z\n",
        "2 << Z >> 2\n",
        "Z <- Z\n",
        "1j*Z\n",
        "Z/1/1\n",
        "Z<Z>Z\n",
        "```"
      ]
    },
    {
      "cell_type": "code",
      "execution_count": null,
      "id": "564658fc",
      "metadata": {
        "id": "564658fc"
      },
      "outputs": [],
      "source": []
    },
    {
      "cell_type": "markdown",
      "id": "c34e94bf",
      "metadata": {
        "id": "c34e94bf"
      },
      "source": [
        "#### 28. What are the result of the following expressions? (★☆☆)\n",
        "```python\n",
        "np.array(0) / np.array(0)\n",
        "np.array(0) // np.array(0)\n",
        "np.array([np.nan]).astype(int).astype(float)\n",
        "```"
      ]
    },
    {
      "cell_type": "code",
      "execution_count": null,
      "id": "56663562",
      "metadata": {
        "id": "56663562"
      },
      "outputs": [],
      "source": []
    },
    {
      "cell_type": "markdown",
      "id": "546f5e7b",
      "metadata": {
        "id": "546f5e7b"
      },
      "source": [
        "#### 29. How to round away from zero a float array ? (★☆☆)"
      ]
    },
    {
      "cell_type": "code",
      "execution_count": null,
      "id": "f725a6d2",
      "metadata": {
        "id": "f725a6d2"
      },
      "outputs": [],
      "source": []
    },
    {
      "cell_type": "markdown",
      "id": "eadca856",
      "metadata": {
        "id": "eadca856"
      },
      "source": [
        "#### 30. How to find common values between two arrays? (★☆☆)"
      ]
    },
    {
      "cell_type": "code",
      "execution_count": null,
      "id": "e0270b5b",
      "metadata": {
        "id": "e0270b5b"
      },
      "outputs": [],
      "source": []
    },
    {
      "cell_type": "markdown",
      "id": "ca16ca22",
      "metadata": {
        "id": "ca16ca22"
      },
      "source": [
        "#### 31. How to ignore all numpy warnings (not recommended)? (★☆☆)"
      ]
    },
    {
      "cell_type": "code",
      "execution_count": null,
      "id": "7d7208ef",
      "metadata": {
        "id": "7d7208ef"
      },
      "outputs": [],
      "source": []
    },
    {
      "cell_type": "markdown",
      "id": "c7871d0d",
      "metadata": {
        "id": "c7871d0d"
      },
      "source": [
        "#### 32. Is the following expressions true? (★☆☆)\n",
        "```python\n",
        "np.sqrt(-1) == np.emath.sqrt(-1)\n",
        "```"
      ]
    },
    {
      "cell_type": "code",
      "execution_count": null,
      "id": "acc3701a",
      "metadata": {
        "id": "acc3701a"
      },
      "outputs": [],
      "source": []
    },
    {
      "cell_type": "markdown",
      "id": "e0433e30",
      "metadata": {
        "id": "e0433e30"
      },
      "source": [
        "#### 33. How to get the dates of yesterday, today and tomorrow? (★☆☆)"
      ]
    },
    {
      "cell_type": "code",
      "execution_count": null,
      "id": "9c4d2152",
      "metadata": {
        "id": "9c4d2152"
      },
      "outputs": [],
      "source": []
    },
    {
      "cell_type": "markdown",
      "id": "9f52a2ef",
      "metadata": {
        "id": "9f52a2ef"
      },
      "source": [
        "#### 34. How to get all the dates corresponding to the month of July 2016? (★★☆)"
      ]
    },
    {
      "cell_type": "code",
      "execution_count": 2,
      "id": "d6c34dec",
      "metadata": {
        "id": "d6c34dec",
        "colab": {
          "base_uri": "https://localhost:8080/"
        },
        "outputId": "c729c13e-72ff-4d70-89da-b7788aee12d8"
      },
      "outputs": [
        {
          "output_type": "stream",
          "name": "stdout",
          "text": [
            "['2016-07-01' '2016-07-02' '2016-07-03' '2016-07-04' '2016-07-05'\n",
            " '2016-07-06' '2016-07-07' '2016-07-08' '2016-07-09' '2016-07-10'\n",
            " '2016-07-11' '2016-07-12' '2016-07-13' '2016-07-14' '2016-07-15'\n",
            " '2016-07-16' '2016-07-17' '2016-07-18' '2016-07-19' '2016-07-20'\n",
            " '2016-07-21' '2016-07-22' '2016-07-23' '2016-07-24' '2016-07-25'\n",
            " '2016-07-26' '2016-07-27' '2016-07-28' '2016-07-29' '2016-07-30'\n",
            " '2016-07-31']\n"
          ]
        }
      ],
      "source": [
        "import numpy as np\n",
        "\n",
        "# Define the start and end dates for July 2016\n",
        "start_date = np.datetime64('2016-07-01')\n",
        "end_date = np.datetime64('2016-08-01')\n",
        "\n",
        "# Generate all the dates corresponding to the month of July 2016\n",
        "dates = np.arange(start_date, end_date, dtype='datetime64[D]')\n",
        "\n",
        "print(dates)\n"
      ]
    },
    {
      "cell_type": "markdown",
      "id": "4a64e059",
      "metadata": {
        "id": "4a64e059"
      },
      "source": [
        "#### 35. How to compute ((A+B)*(-A/2)) in place (without copy)? (★★☆)"
      ]
    },
    {
      "cell_type": "code",
      "execution_count": 5,
      "id": "49267f60",
      "metadata": {
        "id": "49267f60",
        "colab": {
          "base_uri": "https://localhost:8080/"
        },
        "outputId": "8a592264-7d1a-4216-eaf9-4f9bbe4a69de"
      },
      "outputs": [
        {
          "output_type": "stream",
          "name": "stdout",
          "text": [
            "[-2.5 -3.5 -4.5]\n"
          ]
        }
      ],
      "source": [
        "import numpy as np\n",
        "\n",
        "# Assuming A and B are NumPy arrays of the same shape\n",
        "A = np.array([1, 2, 3], dtype=float)\n",
        "B = np.array([4, 5, 6], dtype= float)\n",
        "\n",
        "# Perform the computation in place\n",
        "A += B\n",
        "A *= -1/2\n",
        "\n",
        "print(A)\n"
      ]
    },
    {
      "cell_type": "markdown",
      "id": "8a98c2a8",
      "metadata": {
        "id": "8a98c2a8"
      },
      "source": [
        "#### 36. Extract the integer part of a random array of positive numbers using 4 different methods (★★☆)"
      ]
    },
    {
      "cell_type": "code",
      "execution_count": null,
      "id": "368130b3",
      "metadata": {
        "id": "368130b3"
      },
      "outputs": [],
      "source": []
    },
    {
      "cell_type": "markdown",
      "id": "5a2e3d85",
      "metadata": {
        "id": "5a2e3d85"
      },
      "source": [
        "#### 37. Create a 5x5 matrix with row values ranging from 0 to 4 (★★☆)"
      ]
    },
    {
      "cell_type": "code",
      "execution_count": 19,
      "id": "1d974e8f",
      "metadata": {
        "id": "1d974e8f",
        "colab": {
          "base_uri": "https://localhost:8080/"
        },
        "outputId": "0c84ae58-d8e8-49db-8005-331bb4d8638b"
      },
      "outputs": [
        {
          "output_type": "stream",
          "name": "stdout",
          "text": [
            "[[0 1 2 3 4]\n",
            " [1 2 3 4 5]\n",
            " [2 3 4 5 6]\n",
            " [3 4 5 6 7]\n",
            " [4 5 6 7 8]]\n"
          ]
        }
      ],
      "source": [
        "import numpy as np\n",
        "\n",
        "matrix = np.arange(5).reshape(-1, 1) + np.arange(5)\n",
        "\n",
        "print(matrix)\n"
      ]
    },
    {
      "cell_type": "markdown",
      "id": "9720e2d5",
      "metadata": {
        "id": "9720e2d5"
      },
      "source": [
        "#### 38. Consider a generator function that generates 10 integers and use it to build an array (★☆☆)"
      ]
    },
    {
      "cell_type": "code",
      "execution_count": 29,
      "id": "e5dd8fc9",
      "metadata": {
        "id": "e5dd8fc9",
        "colab": {
          "base_uri": "https://localhost:8080/"
        },
        "outputId": "342e2061-a5fd-47e9-b73e-2a7243acd344"
      },
      "outputs": [
        {
          "output_type": "stream",
          "name": "stdout",
          "text": [
            "[0 1 2 3 4 5 6 7 8 9]\n"
          ]
        }
      ],
      "source": [
        "import numpy as np\n",
        "\n",
        "def integer_generator():\n",
        "    for i in range(10):\n",
        "        yield i\n",
        "\n",
        "# Create an array using the generator function\n",
        "array = np.fromiter(integer_generator(), dtype=int)\n",
        "\n",
        "print(array)\n"
      ]
    },
    {
      "cell_type": "markdown",
      "id": "c6f2c912",
      "metadata": {
        "id": "c6f2c912"
      },
      "source": [
        "#### 39. Create a vector of size 10 with values ranging from 0 to 1, both excluded (★★☆)"
      ]
    },
    {
      "cell_type": "code",
      "execution_count": 30,
      "id": "6aaa27d3",
      "metadata": {
        "id": "6aaa27d3",
        "colab": {
          "base_uri": "https://localhost:8080/"
        },
        "outputId": "64e0c0e0-d3c3-45b1-f09a-ffcae14fb002"
      },
      "outputs": [
        {
          "output_type": "stream",
          "name": "stdout",
          "text": [
            "[0.  0.1 0.2 0.3 0.4 0.5 0.6 0.7 0.8 0.9]\n"
          ]
        }
      ],
      "source": [
        "\n",
        "# Create a vector of size 10 with values ranging from 0 to 1 (both excluded)\n",
        "vector = np.linspace(0, 1, num=10, endpoint=False)\n",
        "\n",
        "print(vector)"
      ]
    },
    {
      "cell_type": "markdown",
      "id": "a36d6ee4",
      "metadata": {
        "id": "a36d6ee4"
      },
      "source": [
        "#### 40. Create a random vector of size 10 and sort it (★★☆)"
      ]
    },
    {
      "cell_type": "code",
      "execution_count": 33,
      "id": "e589d216",
      "metadata": {
        "id": "e589d216",
        "colab": {
          "base_uri": "https://localhost:8080/"
        },
        "outputId": "3244cb35-5d5d-4fc3-fb1f-525c56629ff7"
      },
      "outputs": [
        {
          "output_type": "stream",
          "name": "stdout",
          "text": [
            "[0.08333333 0.16666667 0.25       0.33333333 0.41666667 0.5\n",
            " 0.58333333 0.66666667 0.75       0.83333333]\n"
          ]
        }
      ],
      "source": [
        "import numpy as np\n",
        "\n",
        "# Create a vector of size 10 with values ranging from 0 to 1 (both excluded)\n",
        "vector = np.linspace(0, 1, num=12, endpoint=False)[1:-1]\n",
        "\n",
        "print(vector)\n"
      ]
    },
    {
      "cell_type": "markdown",
      "id": "0fb4ad68",
      "metadata": {
        "id": "0fb4ad68"
      },
      "source": [
        "#### 41. How to sum a small array faster than np.sum? (★★☆)"
      ]
    },
    {
      "cell_type": "code",
      "execution_count": 34,
      "id": "a1ba05a0",
      "metadata": {
        "id": "a1ba05a0",
        "colab": {
          "base_uri": "https://localhost:8080/"
        },
        "outputId": "37886dd4-5848-4e6d-c79d-d3d4f63e8f6d"
      },
      "outputs": [
        {
          "output_type": "stream",
          "name": "stdout",
          "text": [
            "Sum using np.sum: 15\n",
            "Sum using built-in sum: 15\n"
          ]
        }
      ],
      "source": [
        "import numpy as np\n",
        "\n",
        "# Create a small array\n",
        "small_array = np.array([1, 2, 3, 4, 5])\n",
        "\n",
        "# Perform the sum using np.sum\n",
        "result_np_sum = np.sum(small_array)\n",
        "\n",
        "# Perform the sum using built-in sum function\n",
        "result_builtin_sum = sum(small_array)\n",
        "\n",
        "print(\"Sum using np.sum:\", result_np_sum)\n",
        "print(\"Sum using built-in sum:\", result_builtin_sum)\n"
      ]
    },
    {
      "cell_type": "markdown",
      "id": "024ac365",
      "metadata": {
        "id": "024ac365"
      },
      "source": [
        "#### 42. Consider two random array A and B, check if they are equal (★★☆)"
      ]
    },
    {
      "cell_type": "code",
      "source": [
        "import numpy as np\n",
        "\n",
        "# Generate two random arrays A and B\n",
        "A = np.random.rand(5, 5)\n",
        "B = np.random.rand(5, 5)\n",
        "\n",
        "# Check if arrays A and B are equal\n",
        "if np.array_equal(A, B):\n",
        "    print(\"Arrays A and B are equal.\")\n",
        "else:\n",
        "    print(\"Arrays A and B are not equal.\")\n"
      ],
      "metadata": {
        "colab": {
          "base_uri": "https://localhost:8080/"
        },
        "id": "xSuD_83D5rM7",
        "outputId": "f26243d7-d37d-4507-a0fe-06757b03b7e3"
      },
      "id": "xSuD_83D5rM7",
      "execution_count": 47,
      "outputs": [
        {
          "output_type": "stream",
          "name": "stdout",
          "text": [
            "Arrays A and B are not equal.\n"
          ]
        }
      ]
    },
    {
      "cell_type": "markdown",
      "id": "c68d2401",
      "metadata": {
        "id": "c68d2401"
      },
      "source": [
        "#### 43. Make an array immutable (read-only) (★★☆)"
      ]
    },
    {
      "cell_type": "code",
      "execution_count": 49,
      "id": "7828539d",
      "metadata": {
        "id": "7828539d",
        "colab": {
          "base_uri": "https://localhost:8080/"
        },
        "outputId": "ef49992e-5c1a-4789-d512-9f0956bcc1a1"
      },
      "outputs": [
        {
          "output_type": "stream",
          "name": "stdout",
          "text": [
            "[1 2 3 4 5]\n"
          ]
        }
      ],
      "source": [
        "import numpy as np\n",
        "\n",
        "# Create a NumPy array\n",
        "my_array = np.array([1, 2, 3, 4, 5])\n",
        "\n",
        "# Make the array immutable\n",
        "my_array.flags.writeable = False\n",
        "\n",
        "# Try to modify the array (this will raise an error)\n",
        "# my_array[0] = 10  # Uncomment this line to see the error\n",
        "\n",
        "print(my_array)\n"
      ]
    },
    {
      "cell_type": "markdown",
      "id": "55df6280",
      "metadata": {
        "id": "55df6280"
      },
      "source": [
        "#### 44. Consider a random 10x2 matrix representing cartesian coordinates, convert them to polar coordinates (★★☆)"
      ]
    },
    {
      "cell_type": "code",
      "execution_count": 50,
      "id": "f1c86ea0",
      "metadata": {
        "id": "f1c86ea0",
        "colab": {
          "base_uri": "https://localhost:8080/"
        },
        "outputId": "c346a8b1-a4ff-4dc3-e53a-61bb3d0d0ba0"
      },
      "outputs": [
        {
          "output_type": "stream",
          "name": "stdout",
          "text": [
            "Cartesian Coordinates:\n",
            "[[0.17604279 0.72844895]\n",
            " [0.56638821 0.52209974]\n",
            " [0.75809329 0.21236954]\n",
            " [0.48498824 0.87292616]\n",
            " [0.14732512 0.39015015]\n",
            " [0.98015808 0.89957317]\n",
            " [0.75750243 0.8654536 ]\n",
            " [0.88878461 0.29389788]\n",
            " [0.04370708 0.94062255]\n",
            " [0.47066847 0.11082137]]\n",
            "\n",
            "Polar Coordinates:\n",
            "[[ 0.74941907 76.41393777]\n",
            " [ 0.77031405 42.67003113]\n",
            " [ 0.78727775 15.64949437]\n",
            " [ 0.99860587 60.94392814]\n",
            " [ 0.41703936 69.31289476]\n",
            " [ 1.33039158 42.5452078 ]\n",
            " [ 1.15013906 48.80543212]\n",
            " [ 0.93611647 18.29770329]\n",
            " [ 0.94163745 87.3396009 ]\n",
            " [ 0.48353922 13.24926887]]\n"
          ]
        }
      ],
      "source": [
        "import numpy as np\n",
        "\n",
        "# Create a random 10x2 matrix representing Cartesian coordinates\n",
        "cartesian_coordinates = np.random.rand(10, 2)\n",
        "\n",
        "# Convert Cartesian coordinates to polar coordinates\n",
        "r = np.linalg.norm(cartesian_coordinates, axis=1)\n",
        "theta = np.arctan2(cartesian_coordinates[:, 1], cartesian_coordinates[:, 0])\n",
        "\n",
        "# Convert angles to degrees (optional)\n",
        "theta_degrees = np.degrees(theta)\n",
        "\n",
        "# Create a 10x2 matrix representing polar coordinates\n",
        "polar_coordinates = np.column_stack((r, theta_degrees))\n",
        "\n",
        "print(\"Cartesian Coordinates:\")\n",
        "print(cartesian_coordinates)\n",
        "\n",
        "print(\"\\nPolar Coordinates:\")\n",
        "print(polar_coordinates)\n"
      ]
    },
    {
      "cell_type": "markdown",
      "id": "2f60f1ec",
      "metadata": {
        "id": "2f60f1ec"
      },
      "source": [
        "#### 45. Create random vector of size 10 and replace the maximum value by 0 (★★☆)"
      ]
    },
    {
      "cell_type": "code",
      "execution_count": 53,
      "id": "d9f48f1c",
      "metadata": {
        "id": "d9f48f1c",
        "colab": {
          "base_uri": "https://localhost:8080/"
        },
        "outputId": "c2748f8d-dda4-4b84-c6e6-32c27c742e43"
      },
      "outputs": [
        {
          "output_type": "stream",
          "name": "stdout",
          "text": [
            "Original Vector:\n",
            "[0.88611917 0.2339219  0.02687925 0.3844695  0.34777795 0.08647564\n",
            " 0.893642   0.54499422 0.23327765 0.48649271]\n",
            "\n",
            "Vector after replacing the maximum value with 0:\n",
            "[0.88611917 0.2339219  0.02687925 0.3844695  0.34777795 0.08647564\n",
            " 0.         0.54499422 0.23327765 0.48649271]\n"
          ]
        }
      ],
      "source": [
        "\n",
        " import numpy as np\n",
        "\n",
        "# Create a random vector of size 10\n",
        "random_vector = np.random.rand(10)\n",
        "\n",
        "print(\"Original Vector:\")\n",
        "print(random_vector)\n",
        "\n",
        "# Find the index of the maximum value\n",
        "max_index = np.argmax(random_vector)\n",
        "\n",
        "# Replace the maximum value with 0\n",
        "random_vector[max_index] = 0\n",
        "\n",
        "print(\"\\nVector after replacing the maximum value with 0:\")\n",
        "print(random_vector)\n"
      ]
    },
    {
      "cell_type": "markdown",
      "id": "084e8ad4",
      "metadata": {
        "id": "084e8ad4"
      },
      "source": [
        "#### 46. Create a structured array with `x` and `y` coordinates covering the [0,1]x[0,1] area (★★☆)"
      ]
    },
    {
      "cell_type": "code",
      "execution_count": 54,
      "id": "58b47c13",
      "metadata": {
        "id": "58b47c13",
        "colab": {
          "base_uri": "https://localhost:8080/"
        },
        "outputId": "f782b2bb-111d-4bf2-f10f-496ce6afad3a"
      },
      "outputs": [
        {
          "output_type": "stream",
          "name": "stdout",
          "text": [
            "[[0.   0.  ]\n",
            " [0.25 0.  ]\n",
            " [0.5  0.  ]\n",
            " [0.75 0.  ]\n",
            " [1.   0.  ]\n",
            " [0.   0.25]\n",
            " [0.25 0.25]\n",
            " [0.5  0.25]\n",
            " [0.75 0.25]\n",
            " [1.   0.25]\n",
            " [0.   0.5 ]\n",
            " [0.25 0.5 ]\n",
            " [0.5  0.5 ]\n",
            " [0.75 0.5 ]\n",
            " [1.   0.5 ]\n",
            " [0.   0.75]\n",
            " [0.25 0.75]\n",
            " [0.5  0.75]\n",
            " [0.75 0.75]\n",
            " [1.   0.75]\n",
            " [0.   1.  ]\n",
            " [0.25 1.  ]\n",
            " [0.5  1.  ]\n",
            " [0.75 1.  ]\n",
            " [1.   1.  ]]\n"
          ]
        }
      ],
      "source": [
        "import numpy as np\n",
        "\n",
        "# Number of points in each direction\n",
        "n_points = 5\n",
        "\n",
        "# Generate a grid of x and y coordinates\n",
        "x = np.linspace(0, 1, n_points)\n",
        "y = np.linspace(0, 1, n_points)\n",
        "x_grid, y_grid = np.meshgrid(x, y)\n",
        "\n",
        "# Create the structured array\n",
        "structured_array = np.column_stack((x_grid.ravel(), y_grid.ravel()))\n",
        "\n",
        "print(structured_array)\n"
      ]
    },
    {
      "cell_type": "markdown",
      "id": "d7b9bc42",
      "metadata": {
        "id": "d7b9bc42"
      },
      "source": [
        "#### 47. Given two arrays, X and Y, construct the Cauchy matrix C (Cij =1/(xi - yj)) (★★☆)"
      ]
    },
    {
      "cell_type": "code",
      "execution_count": 55,
      "id": "a24824fb",
      "metadata": {
        "id": "a24824fb",
        "colab": {
          "base_uri": "https://localhost:8080/"
        },
        "outputId": "30a745f0-7423-4d02-ebaf-bbd555e783ed"
      },
      "outputs": [
        {
          "output_type": "stream",
          "name": "stdout",
          "text": [
            "[[-0.33333333 -0.25      ]\n",
            " [-0.5        -0.33333333]\n",
            " [-1.         -0.5       ]]\n"
          ]
        }
      ],
      "source": [
        "import numpy as np\n",
        "\n",
        "# Example arrays X and Y\n",
        "X = np.array([1, 2, 3])\n",
        "Y = np.array([4, 5])\n",
        "\n",
        "# Calculate the Cauchy matrix using broadcasting\n",
        "C = 1 / (X[:, np.newaxis] - Y)\n",
        "\n",
        "print(C)\n"
      ]
    },
    {
      "cell_type": "markdown",
      "id": "65ebc11b",
      "metadata": {
        "id": "65ebc11b"
      },
      "source": [
        "#### 48. Print the minimum and maximum representable value for each numpy scalar type (★★☆)"
      ]
    },
    {
      "cell_type": "code",
      "execution_count": null,
      "id": "e45d38fb",
      "metadata": {
        "id": "e45d38fb"
      },
      "outputs": [],
      "source": []
    },
    {
      "cell_type": "markdown",
      "id": "9b317a98",
      "metadata": {
        "id": "9b317a98"
      },
      "source": [
        "#### 49. How to print all the values of an array? (★★☆)"
      ]
    },
    {
      "cell_type": "code",
      "execution_count": 2,
      "id": "309cdeb9",
      "metadata": {
        "id": "309cdeb9",
        "colab": {
          "base_uri": "https://localhost:8080/"
        },
        "outputId": "44bef298-3cc4-40f5-fe40-c22716c9827f"
      },
      "outputs": [
        {
          "output_type": "stream",
          "name": "stdout",
          "text": [
            "[ 1  2  3  4  5  6  7  8  9 10]\n"
          ]
        }
      ],
      "source": [
        "import numpy as np\n",
        "\n",
        "my_array = np.array([1, 2, 3, 4, 5, 6, 7, 8, 9, 10])\n",
        "\n",
        "np.set_printoptions(threshold=np.inf)\n",
        "\n",
        "print(my_array)\n"
      ]
    },
    {
      "cell_type": "markdown",
      "id": "b580f9d0",
      "metadata": {
        "id": "b580f9d0"
      },
      "source": [
        "#### 50. How to find the closest value (to a given scalar) in a vector? (★★☆)"
      ]
    },
    {
      "cell_type": "code",
      "execution_count": 5,
      "id": "ebfb6714",
      "metadata": {
        "id": "ebfb6714",
        "colab": {
          "base_uri": "https://localhost:8080/"
        },
        "outputId": "76f35205-e064-415d-b103-63a99764f4e2"
      },
      "outputs": [
        {
          "output_type": "execute_result",
          "data": {
            "text/plain": [
              "6"
            ]
          },
          "metadata": {},
          "execution_count": 5
        }
      ],
      "source": [
        "a= np.array([1,2,3,4,5,6])\n",
        "target= 9\n",
        "b= np.abs(a-target)\n",
        "c=np.argmin(b)\n",
        "a[c]\n"
      ]
    },
    {
      "cell_type": "markdown",
      "id": "602e6252",
      "metadata": {
        "id": "602e6252"
      },
      "source": [
        "#### 51. Create a structured array representing a position (x,y) and a color (r,g,b) (★★☆)"
      ]
    },
    {
      "cell_type": "code",
      "execution_count": null,
      "id": "cf002b3a",
      "metadata": {
        "id": "cf002b3a"
      },
      "outputs": [],
      "source": []
    },
    {
      "cell_type": "markdown",
      "id": "78bcd92f",
      "metadata": {
        "id": "78bcd92f"
      },
      "source": [
        "#### 52. Consider a random vector with shape (100,2) representing coordinates, find point by point distances (★★☆)"
      ]
    },
    {
      "cell_type": "code",
      "execution_count": null,
      "id": "fea7f9a6",
      "metadata": {
        "id": "fea7f9a6"
      },
      "outputs": [],
      "source": []
    },
    {
      "cell_type": "markdown",
      "id": "343c5a85",
      "metadata": {
        "id": "343c5a85"
      },
      "source": [
        "#### 53. How to convert a float (32 bits) array into an integer (32 bits) in place?"
      ]
    },
    {
      "cell_type": "code",
      "execution_count": null,
      "id": "fc1b687b",
      "metadata": {
        "id": "fc1b687b"
      },
      "outputs": [],
      "source": []
    },
    {
      "cell_type": "markdown",
      "id": "a69e1ace",
      "metadata": {
        "id": "a69e1ace"
      },
      "source": [
        "#### 54. How to read the following file? (★★☆)\n",
        "```\n",
        "1, 2, 3, 4, 5\n",
        "6,  ,  , 7, 8\n",
        " ,  , 9,10,11\n",
        "```"
      ]
    },
    {
      "cell_type": "code",
      "execution_count": null,
      "id": "1c7957d4",
      "metadata": {
        "id": "1c7957d4"
      },
      "outputs": [],
      "source": []
    },
    {
      "cell_type": "markdown",
      "id": "c23bd80d",
      "metadata": {
        "id": "c23bd80d"
      },
      "source": [
        "#### 55. What is the equivalent of enumerate for numpy arrays? (★★☆)"
      ]
    },
    {
      "cell_type": "code",
      "execution_count": null,
      "id": "d95d9578",
      "metadata": {
        "id": "d95d9578"
      },
      "outputs": [],
      "source": []
    },
    {
      "cell_type": "markdown",
      "id": "2153a5ec",
      "metadata": {
        "id": "2153a5ec"
      },
      "source": [
        "#### 56. Generate a generic 2D Gaussian-like array (★★☆)"
      ]
    },
    {
      "cell_type": "code",
      "execution_count": null,
      "id": "61122d1e",
      "metadata": {
        "id": "61122d1e"
      },
      "outputs": [],
      "source": []
    },
    {
      "cell_type": "markdown",
      "id": "2e76d589",
      "metadata": {
        "id": "2e76d589"
      },
      "source": [
        "#### 57. How to randomly place p elements in a 2D array? (★★☆)"
      ]
    },
    {
      "cell_type": "code",
      "execution_count": null,
      "id": "0c2e4fcc",
      "metadata": {
        "id": "0c2e4fcc"
      },
      "outputs": [],
      "source": []
    },
    {
      "cell_type": "markdown",
      "id": "8b3933eb",
      "metadata": {
        "id": "8b3933eb"
      },
      "source": [
        "#### 58. Subtract the mean of each row of a matrix (★★☆)"
      ]
    },
    {
      "cell_type": "code",
      "execution_count": null,
      "id": "a306c9ef",
      "metadata": {
        "id": "a306c9ef"
      },
      "outputs": [],
      "source": []
    },
    {
      "cell_type": "markdown",
      "id": "ea8807c0",
      "metadata": {
        "id": "ea8807c0"
      },
      "source": [
        "#### 59. How to sort an array by the nth column? (★★☆)"
      ]
    },
    {
      "cell_type": "code",
      "execution_count": null,
      "id": "cc89a699",
      "metadata": {
        "id": "cc89a699"
      },
      "outputs": [],
      "source": []
    },
    {
      "cell_type": "markdown",
      "id": "00fa00a1",
      "metadata": {
        "id": "00fa00a1"
      },
      "source": [
        "#### 60. How to tell if a given 2D array has null columns? (★★☆)"
      ]
    },
    {
      "cell_type": "code",
      "execution_count": null,
      "id": "3436e165",
      "metadata": {
        "id": "3436e165"
      },
      "outputs": [],
      "source": []
    },
    {
      "cell_type": "markdown",
      "id": "5a65c7a2",
      "metadata": {
        "id": "5a65c7a2"
      },
      "source": [
        "#### 61. Find the nearest value from a given value in an array (★★☆)"
      ]
    },
    {
      "cell_type": "code",
      "execution_count": null,
      "id": "73f149d6",
      "metadata": {
        "id": "73f149d6"
      },
      "outputs": [],
      "source": []
    },
    {
      "cell_type": "markdown",
      "id": "dd83e8af",
      "metadata": {
        "id": "dd83e8af"
      },
      "source": [
        "#### 62. Considering two arrays with shape (1,3) and (3,1), how to compute their sum using an iterator? (★★☆)"
      ]
    },
    {
      "cell_type": "code",
      "execution_count": null,
      "id": "29a709a1",
      "metadata": {
        "id": "29a709a1"
      },
      "outputs": [],
      "source": []
    },
    {
      "cell_type": "markdown",
      "id": "6c042efa",
      "metadata": {
        "id": "6c042efa"
      },
      "source": [
        "#### 63. Create an array class that has a name attribute (★★☆)"
      ]
    },
    {
      "cell_type": "code",
      "execution_count": null,
      "id": "45b3d2e0",
      "metadata": {
        "id": "45b3d2e0"
      },
      "outputs": [],
      "source": []
    },
    {
      "cell_type": "markdown",
      "id": "0a075c3d",
      "metadata": {
        "id": "0a075c3d"
      },
      "source": [
        "#### 64. Consider a given vector, how to add 1 to each element indexed by a second vector (be careful with repeated indices)? (★★★)"
      ]
    },
    {
      "cell_type": "code",
      "execution_count": null,
      "id": "36c50470",
      "metadata": {
        "id": "36c50470"
      },
      "outputs": [],
      "source": []
    },
    {
      "cell_type": "markdown",
      "id": "0fb2f0c5",
      "metadata": {
        "id": "0fb2f0c5"
      },
      "source": [
        "#### 65. How to accumulate elements of a vector (X) to an array (F) based on an index list (I)? (★★★)"
      ]
    },
    {
      "cell_type": "code",
      "execution_count": null,
      "id": "58aa5f82",
      "metadata": {
        "id": "58aa5f82"
      },
      "outputs": [],
      "source": []
    },
    {
      "cell_type": "markdown",
      "id": "d89dc506",
      "metadata": {
        "id": "d89dc506"
      },
      "source": [
        "#### 66. Considering a (w,h,3) image of (dtype=ubyte), compute the number of unique colors (★★☆)"
      ]
    },
    {
      "cell_type": "code",
      "execution_count": null,
      "id": "8fb43a49",
      "metadata": {
        "id": "8fb43a49"
      },
      "outputs": [],
      "source": []
    },
    {
      "cell_type": "markdown",
      "id": "535a5d81",
      "metadata": {
        "id": "535a5d81"
      },
      "source": [
        "#### 67. Considering a four dimensions array, how to get sum over the last two axis at once? (★★★)"
      ]
    },
    {
      "cell_type": "code",
      "execution_count": null,
      "id": "f954ab9d",
      "metadata": {
        "id": "f954ab9d"
      },
      "outputs": [],
      "source": []
    },
    {
      "cell_type": "markdown",
      "id": "eee66d3c",
      "metadata": {
        "id": "eee66d3c"
      },
      "source": [
        "#### 68. Considering a one-dimensional vector D, how to compute means of subsets of D using a vector S of same size describing subset  indices? (★★★)"
      ]
    },
    {
      "cell_type": "code",
      "execution_count": null,
      "id": "8929773a",
      "metadata": {
        "id": "8929773a"
      },
      "outputs": [],
      "source": []
    },
    {
      "cell_type": "markdown",
      "id": "f90d4c40",
      "metadata": {
        "id": "f90d4c40"
      },
      "source": [
        "#### 69. How to get the diagonal of a dot product? (★★★)"
      ]
    },
    {
      "cell_type": "code",
      "execution_count": null,
      "id": "b47d392d",
      "metadata": {
        "id": "b47d392d"
      },
      "outputs": [],
      "source": []
    },
    {
      "cell_type": "markdown",
      "id": "a8a97e7d",
      "metadata": {
        "id": "a8a97e7d"
      },
      "source": [
        "#### 70. Consider the vector [1, 2, 3, 4, 5], how to build a new vector with 3 consecutive zeros interleaved between each value? (★★★)"
      ]
    },
    {
      "cell_type": "code",
      "execution_count": null,
      "id": "ee6c6c37",
      "metadata": {
        "id": "ee6c6c37"
      },
      "outputs": [],
      "source": []
    },
    {
      "cell_type": "markdown",
      "id": "d6a30d60",
      "metadata": {
        "id": "d6a30d60"
      },
      "source": [
        "#### 71. Consider an array of dimension (5,5,3), how to mulitply it by an array with dimensions (5,5)? (★★★)"
      ]
    },
    {
      "cell_type": "code",
      "execution_count": null,
      "id": "e9703f2e",
      "metadata": {
        "id": "e9703f2e"
      },
      "outputs": [],
      "source": []
    },
    {
      "cell_type": "markdown",
      "id": "bac359a9",
      "metadata": {
        "id": "bac359a9"
      },
      "source": [
        "#### 72. How to swap two rows of an array? (★★★)"
      ]
    },
    {
      "cell_type": "code",
      "execution_count": null,
      "id": "f1b432b1",
      "metadata": {
        "id": "f1b432b1"
      },
      "outputs": [],
      "source": []
    },
    {
      "cell_type": "markdown",
      "id": "620c9f83",
      "metadata": {
        "id": "620c9f83"
      },
      "source": [
        "#### 73. Consider a set of 10 triplets describing 10 triangles (with shared vertices), find the set of unique line segments composing all the  triangles (★★★)"
      ]
    },
    {
      "cell_type": "code",
      "execution_count": null,
      "id": "4e595ffc",
      "metadata": {
        "id": "4e595ffc"
      },
      "outputs": [],
      "source": []
    },
    {
      "cell_type": "markdown",
      "id": "a76c55a2",
      "metadata": {
        "id": "a76c55a2"
      },
      "source": [
        "#### 74. Given a sorted array C that corresponds to a bincount, how to produce an array A such that np.bincount(A) == C? (★★★)"
      ]
    },
    {
      "cell_type": "code",
      "execution_count": null,
      "id": "2d2ae65a",
      "metadata": {
        "id": "2d2ae65a"
      },
      "outputs": [],
      "source": []
    },
    {
      "cell_type": "markdown",
      "id": "d550c8e2",
      "metadata": {
        "id": "d550c8e2"
      },
      "source": [
        "#### 75. How to compute averages using a sliding window over an array? (★★★)"
      ]
    },
    {
      "cell_type": "code",
      "execution_count": 6,
      "id": "841c457c",
      "metadata": {
        "id": "841c457c",
        "colab": {
          "base_uri": "https://localhost:8080/"
        },
        "outputId": "19c37a72-cd1c-49b2-91ed-2f26daa08234"
      },
      "outputs": [
        {
          "output_type": "stream",
          "name": "stdout",
          "text": [
            "Original Array: [ 1  2  3  4  5  6  7  8  9 10]\n",
            "Moving Averages with Window Size 3 : [2. 3. 4. 5. 6. 7. 8. 9.]\n"
          ]
        }
      ],
      "source": [
        "import numpy as np\n",
        "\n",
        "def sliding_window_average(arr, window_size):\n",
        "    # Create a window with equal weights (for calculating the average)\n",
        "    window = np.ones(window_size) / window_size\n",
        "\n",
        "    # Use numpy.convolve to calculate the moving average\n",
        "    return np.convolve(arr, window, mode='valid')\n",
        "\n",
        "\n",
        "data_array = np.array([1, 2, 3, 4, 5, 6, 7, 8, 9, 10])\n",
        "\n",
        "# Window size for the sliding window\n",
        "window_size = 3\n",
        "\n",
        "# Calculate moving averages using the sliding window\n",
        "averages = sliding_window_average(data_array, window_size)\n",
        "\n",
        "print(\"Original Array:\", data_array)\n",
        "print(\"Moving Averages with Window Size\", window_size, \":\", averages)\n"
      ]
    },
    {
      "cell_type": "markdown",
      "id": "6b170b00",
      "metadata": {
        "id": "6b170b00"
      },
      "source": [
        "#### 76. Consider a one-dimensional array Z, build a two-dimensional array whose first row is (Z[0],Z[1],Z[2]) and each subsequent row is  shifted by 1 (last row should be (Z[-3],Z[-2],Z[-1]) (★★★)"
      ]
    },
    {
      "cell_type": "code",
      "execution_count": 7,
      "id": "d9a0cf4e",
      "metadata": {
        "id": "d9a0cf4e",
        "colab": {
          "base_uri": "https://localhost:8080/"
        },
        "outputId": "3fdf7f5c-19e4-493a-d6b4-acc614f890c7"
      },
      "outputs": [
        {
          "output_type": "stream",
          "name": "stdout",
          "text": [
            "[[1 2 3]\n",
            " [2 3 4]\n",
            " [3 4 5]\n",
            " [4 5 6]\n",
            " [5 6 7]\n",
            " [6 7 8]\n",
            " [7 8 9]]\n"
          ]
        }
      ],
      "source": [
        "\n",
        "\n",
        "# One-dimensional array Z\n",
        "Z = np.array([1, 2, 3, 4, 5, 6, 7, 8, 9])\n",
        "\n",
        "# Build the two-dimensional array\n",
        "rows = len(Z) - 2\n",
        "two_dimensional_array = np.vstack([Z[i:i+3] for i in range(rows)])\n",
        "\n",
        "print(two_dimensional_array)\n"
      ]
    },
    {
      "cell_type": "markdown",
      "id": "e94a5c1d",
      "metadata": {
        "id": "e94a5c1d"
      },
      "source": [
        "#### 77. How to negate a boolean, or to change the sign of a float inplace? (★★★)"
      ]
    },
    {
      "cell_type": "code",
      "execution_count": 8,
      "id": "c0f9504f",
      "metadata": {
        "id": "c0f9504f",
        "colab": {
          "base_uri": "https://localhost:8080/"
        },
        "outputId": "95125f80-00d9-4914-d96b-2a4cd94d10c8"
      },
      "outputs": [
        {
          "output_type": "stream",
          "name": "stdout",
          "text": [
            "False\n"
          ]
        }
      ],
      "source": [
        "\n",
        "my_boolean = True\n",
        "\n",
        "# Negate the boolean inplace\n",
        "my_boolean = not my_boolean\n",
        "\n",
        "print(my_boolean)\n"
      ]
    },
    {
      "cell_type": "code",
      "source": [
        "my_float = 3.14\n",
        "\n",
        "# Change the sign of the float inplace\n",
        "my_float = -my_float\n",
        "\n",
        "print(my_float)\n"
      ],
      "metadata": {
        "colab": {
          "base_uri": "https://localhost:8080/"
        },
        "id": "f8F0diNUdmgS",
        "outputId": "9f7e942a-847c-4aa9-a256-088e661078a6"
      },
      "id": "f8F0diNUdmgS",
      "execution_count": 9,
      "outputs": [
        {
          "output_type": "stream",
          "name": "stdout",
          "text": [
            "-3.14\n"
          ]
        }
      ]
    },
    {
      "cell_type": "markdown",
      "id": "4eb8b5c1",
      "metadata": {
        "id": "4eb8b5c1"
      },
      "source": [
        "#### 78. Consider 2 sets of points P0,P1 describing lines (2d) and a point p, how to compute distance from p to each line i (P0[i],P1[i])? (★★★)"
      ]
    },
    {
      "cell_type": "code",
      "execution_count": 10,
      "id": "487f47ec",
      "metadata": {
        "id": "487f47ec",
        "colab": {
          "base_uri": "https://localhost:8080/"
        },
        "outputId": "4e3d7fa8-a0ff-49a3-a6f3-7ec16745ad40"
      },
      "outputs": [
        {
          "output_type": "stream",
          "name": "stdout",
          "text": [
            "Distances to each line:\n",
            "[0.70710678 0.70710678 0.70710678]\n"
          ]
        }
      ],
      "source": [
        "import numpy as np\n",
        "\n",
        "def distance_to_lines(p, P0, P1):\n",
        "    x, y = p\n",
        "    x1, y1 = P0[:, 0], P0[:, 1]\n",
        "    x2, y2 = P1[:, 0], P1[:, 1]\n",
        "\n",
        "    numerator = np.abs((y2 - y1) * x - (x2 - x1) * y + (x2 * y1 - x1 * y2))\n",
        "    denominator = np.sqrt((x2 - x1) ** 2 + (y2 - y1) ** 2)\n",
        "\n",
        "    distances = numerator / denominator\n",
        "    return distances\n",
        "\n",
        "# Example points for the lines P0 and P1\n",
        "P0 = np.array([[1, 2], [3, 4], [5, 6]])\n",
        "P1 = np.array([[7, 8], [9, 10], [11, 12]])\n",
        "\n",
        "# Example point p\n",
        "p = np.array([0, 0])\n",
        "\n",
        "# Calculate the distance from p to each line\n",
        "distances = distance_to_lines(p, P0, P1)\n",
        "\n",
        "print(\"Distances to each line:\")\n",
        "print(distances)\n"
      ]
    },
    {
      "cell_type": "markdown",
      "id": "3df99948",
      "metadata": {
        "id": "3df99948"
      },
      "source": [
        "#### 79. Consider 2 sets of points P0,P1 describing lines (2d) and a set of points P, how to compute distance from each point j (P[j]) to each line i (P0[i],P1[i])? (★★★)"
      ]
    },
    {
      "cell_type": "code",
      "execution_count": null,
      "id": "dc2df37b",
      "metadata": {
        "id": "dc2df37b"
      },
      "outputs": [],
      "source": []
    },
    {
      "cell_type": "markdown",
      "id": "11e972c2",
      "metadata": {
        "id": "11e972c2"
      },
      "source": [
        "#### 80. Consider an arbitrary array, write a function that extract a subpart with a fixed shape and centered on a given element (pad with a `fill` value when necessary) (★★★)"
      ]
    },
    {
      "cell_type": "code",
      "execution_count": 12,
      "id": "0291247f",
      "metadata": {
        "id": "0291247f",
        "colab": {
          "base_uri": "https://localhost:8080/"
        },
        "outputId": "e62eea47-67ce-403e-d335-d5e4dc742790"
      },
      "outputs": [
        {
          "output_type": "stream",
          "name": "stdout",
          "text": [
            "Original Array:\n",
            "[[2 3 7 8 2 2]\n",
            " [2 8 7 7 5 2]\n",
            " [7 1 4 5 0 5]\n",
            " [1 8 3 8 8 2]\n",
            " [0 1 9 6 1 6]\n",
            " [2 4 0 7 9 1]]\n",
            "\n",
            "Subpart with Shape (3, 3) Centered on (2, 3):\n",
            "[[7 7 5]\n",
            " [4 5 0]\n",
            " [3 8 8]]\n"
          ]
        }
      ],
      "source": [
        "import numpy as np\n",
        "\n",
        "def extract_subpart(arr, center, shape, fill_value=0):\n",
        "    center = np.array(center)\n",
        "    shape = np.array(shape)\n",
        "\n",
        "    # Calculate the lower and upper bounds for each dimension\n",
        "    lower_bounds = np.maximum(center - (shape - 1) // 2, 0)\n",
        "    upper_bounds = np.minimum(center + shape // 2 + 1, np.array(arr.shape))\n",
        "\n",
        "    # Calculate the slices for subpart extraction\n",
        "    slices = tuple(slice(lower, upper) for lower, upper in zip(lower_bounds, upper_bounds))\n",
        "\n",
        "    # Extract the subpart from the original array\n",
        "    subpart = np.full(shape, fill_value)\n",
        "    subpart_slices = tuple(slice((shape[i] - (upper - lower)) // 2, (shape[i] - (upper - lower)) // 2 + (upper - lower))\n",
        "                           for i, (lower, upper) in enumerate(zip(lower_bounds, upper_bounds)))\n",
        "    subpart[subpart_slices] = arr[slices]\n",
        "\n",
        "    return subpart\n",
        "\n",
        "# Example arbitrary array\n",
        "arr = np.random.randint(0, 10, (6, 6))\n",
        "\n",
        "# Center and shape of the subpart to extract\n",
        "center = (2, 3)\n",
        "shape = (3, 3)\n",
        "\n",
        "# Extract the subpart centered on the given element with padding\n",
        "subpart = extract_subpart(arr, center, shape, fill_value=-1)\n",
        "\n",
        "print(\"Original Array:\")\n",
        "print(arr)\n",
        "print(\"\\nSubpart with Shape (3, 3) Centered on (2, 3):\")\n",
        "print(subpart)\n"
      ]
    },
    {
      "cell_type": "markdown",
      "id": "93cfeab3",
      "metadata": {
        "id": "93cfeab3"
      },
      "source": [
        "#### 81. Consider an array Z = [1,2,3,4,5,6,7,8,9,10,11,12,13,14], how to generate an array R = [[1,2,3,4], [2,3,4,5], [3,4,5,6], ..., [11,12,13,14]]? (★★★)"
      ]
    },
    {
      "cell_type": "code",
      "execution_count": 13,
      "id": "360de791",
      "metadata": {
        "id": "360de791",
        "colab": {
          "base_uri": "https://localhost:8080/"
        },
        "outputId": "c4d138ec-b6e5-48a0-e4e4-fcba0fe3c8b5"
      },
      "outputs": [
        {
          "output_type": "stream",
          "name": "stdout",
          "text": [
            "[[ 1  2  3  4]\n",
            " [ 2  3  4  5]\n",
            " [ 3  4  5  6]\n",
            " [ 4  5  6  7]\n",
            " [ 5  6  7  8]\n",
            " [ 6  7  8  9]\n",
            " [ 7  8  9 10]\n",
            " [ 8  9 10 11]\n",
            " [ 9 10 11 12]\n",
            " [10 11 12 13]\n",
            " [11 12 13 14]]\n"
          ]
        }
      ],
      "source": [
        "import numpy as np\n",
        "\n",
        "def generate_subarrays(arr, window_size):\n",
        "    shape = (len(arr) - window_size + 1, window_size)\n",
        "    strides = (arr.itemsize, arr.itemsize)\n",
        "    return np.lib.stride_tricks.as_strided(arr, shape=shape, strides=strides)\n",
        "\n",
        "# Given array Z\n",
        "Z = np.array([1, 2, 3, 4, 5, 6, 7, 8, 9, 10, 11, 12, 13, 14])\n",
        "\n",
        "# Window size for subarrays\n",
        "window_size = 4\n",
        "\n",
        "# Generate array R\n",
        "R = generate_subarrays(Z, window_size)\n",
        "\n",
        "print(R)\n"
      ]
    },
    {
      "cell_type": "markdown",
      "id": "4c15ceff",
      "metadata": {
        "id": "4c15ceff"
      },
      "source": [
        "#### 82. Compute a matrix rank (★★★)"
      ]
    },
    {
      "cell_type": "code",
      "execution_count": 14,
      "id": "9a4272d2",
      "metadata": {
        "id": "9a4272d2",
        "colab": {
          "base_uri": "https://localhost:8080/"
        },
        "outputId": "b7d36b63-e425-4644-bcde-66a9c9bdddce"
      },
      "outputs": [
        {
          "output_type": "stream",
          "name": "stdout",
          "text": [
            "Matrix:\n",
            "[[1 2 3]\n",
            " [4 5 6]\n",
            " [7 8 9]]\n",
            "Rank of the matrix: 2\n"
          ]
        }
      ],
      "source": [
        "import numpy as np\n",
        "\n",
        "# Example matrix\n",
        "matrix = np.array([[1, 2, 3],\n",
        "                   [4, 5, 6],\n",
        "                   [7, 8, 9]])\n",
        "\n",
        "# Compute the rank of the matrix\n",
        "rank = np.linalg.matrix_rank(matrix)\n",
        "\n",
        "print(\"Matrix:\")\n",
        "print(matrix)\n",
        "print(\"Rank of the matrix:\", rank)\n"
      ]
    },
    {
      "cell_type": "markdown",
      "id": "1171cb84",
      "metadata": {
        "id": "1171cb84"
      },
      "source": [
        "#### 83. How to find the most frequent value in an array?"
      ]
    },
    {
      "cell_type": "code",
      "execution_count": 15,
      "id": "33e951c8",
      "metadata": {
        "id": "33e951c8",
        "colab": {
          "base_uri": "https://localhost:8080/"
        },
        "outputId": "8555cb69-f66a-40e8-dcee-97a4a85747bc"
      },
      "outputs": [
        {
          "output_type": "stream",
          "name": "stdout",
          "text": [
            "Array: [1 2 3 2 4 3 2 5 4 2 6 7 8 2 2]\n",
            "Most frequent value: 2\n"
          ]
        }
      ],
      "source": [
        "import numpy as np\n",
        "\n",
        "# Example array\n",
        "my_array = np.array([1, 2, 3, 2, 4, 3, 2, 5, 4, 2, 6, 7, 8, 2, 2])\n",
        "\n",
        "# Find unique elements and their counts\n",
        "unique_elements, counts = np.unique(my_array, return_counts=True)\n",
        "\n",
        "# Find the index of the most frequent value\n",
        "most_frequent_index = np.argmax(counts)\n",
        "\n",
        "# Get the most frequent value\n",
        "most_frequent_value = unique_elements[most_frequent_index]\n",
        "\n",
        "print(\"Array:\", my_array)\n",
        "print(\"Most frequent value:\", most_frequent_value)\n"
      ]
    },
    {
      "cell_type": "markdown",
      "id": "04f472aa",
      "metadata": {
        "id": "04f472aa"
      },
      "source": [
        "#### 84. Extract all the contiguous 3x3 blocks from a random 10x10 matrix (★★★)"
      ]
    },
    {
      "cell_type": "code",
      "execution_count": 16,
      "id": "7aade14a",
      "metadata": {
        "id": "7aade14a",
        "colab": {
          "base_uri": "https://localhost:8080/"
        },
        "outputId": "82bd0bf2-2d71-43e5-9ae5-686f5c5dcaa8"
      },
      "outputs": [
        {
          "output_type": "stream",
          "name": "stdout",
          "text": [
            "Block 1:\n",
            "[[89 29 86]\n",
            " [87 43 56]\n",
            " [62  6  5]]\n",
            "\n",
            "Block 2:\n",
            "[[29 86 61]\n",
            " [43 56 19]\n",
            " [ 6  5 25]]\n",
            "\n",
            "Block 3:\n",
            "[[86 61 83]\n",
            " [56 19 19]\n",
            " [ 5 25  9]]\n",
            "\n",
            "Block 4:\n",
            "[[61 83 10]\n",
            " [19 19 59]\n",
            " [25  9 28]]\n",
            "\n",
            "Block 5:\n",
            "[[83 10 65]\n",
            " [19 59 56]\n",
            " [ 9 28 45]]\n",
            "\n",
            "Block 6:\n",
            "[[10 65 51]\n",
            " [59 56 42]\n",
            " [28 45 63]]\n",
            "\n",
            "Block 7:\n",
            "[[65 51 56]\n",
            " [56 42 28]\n",
            " [45 63 71]]\n",
            "\n",
            "Block 8:\n",
            "[[51 56 14]\n",
            " [42 28  6]\n",
            " [63 71 51]]\n",
            "\n",
            "Block 9:\n",
            "[[87 43 56]\n",
            " [62  6  5]\n",
            " [88 68 69]]\n",
            "\n",
            "Block 10:\n",
            "[[43 56 19]\n",
            " [ 6  5 25]\n",
            " [68 69 19]]\n",
            "\n",
            "Block 11:\n",
            "[[56 19 19]\n",
            " [ 5 25  9]\n",
            " [69 19 32]]\n",
            "\n",
            "Block 12:\n",
            "[[19 19 59]\n",
            " [25  9 28]\n",
            " [19 32 36]]\n",
            "\n",
            "Block 13:\n",
            "[[19 59 56]\n",
            " [ 9 28 45]\n",
            " [32 36 73]]\n",
            "\n",
            "Block 14:\n",
            "[[59 56 42]\n",
            " [28 45 63]\n",
            " [36 73  2]]\n",
            "\n",
            "Block 15:\n",
            "[[56 42 28]\n",
            " [45 63 71]\n",
            " [73  2 82]]\n",
            "\n",
            "Block 16:\n",
            "[[42 28  6]\n",
            " [63 71 51]\n",
            " [ 2 82 27]]\n",
            "\n",
            "Block 17:\n",
            "[[62  6  5]\n",
            " [88 68 69]\n",
            " [ 8 16 48]]\n",
            "\n",
            "Block 18:\n",
            "[[ 6  5 25]\n",
            " [68 69 19]\n",
            " [16 48 11]]\n",
            "\n",
            "Block 19:\n",
            "[[ 5 25  9]\n",
            " [69 19 32]\n",
            " [48 11 93]]\n",
            "\n",
            "Block 20:\n",
            "[[25  9 28]\n",
            " [19 32 36]\n",
            " [11 93 27]]\n",
            "\n",
            "Block 21:\n",
            "[[ 9 28 45]\n",
            " [32 36 73]\n",
            " [93 27 72]]\n",
            "\n",
            "Block 22:\n",
            "[[28 45 63]\n",
            " [36 73  2]\n",
            " [27 72 74]]\n",
            "\n",
            "Block 23:\n",
            "[[45 63 71]\n",
            " [73  2 82]\n",
            " [72 74 88]]\n",
            "\n",
            "Block 24:\n",
            "[[63 71 51]\n",
            " [ 2 82 27]\n",
            " [74 88  5]]\n",
            "\n",
            "Block 25:\n",
            "[[88 68 69]\n",
            " [ 8 16 48]\n",
            " [57 22  5]]\n",
            "\n",
            "Block 26:\n",
            "[[68 69 19]\n",
            " [16 48 11]\n",
            " [22  5 12]]\n",
            "\n",
            "Block 27:\n",
            "[[69 19 32]\n",
            " [48 11 93]\n",
            " [ 5 12 50]]\n",
            "\n",
            "Block 28:\n",
            "[[19 32 36]\n",
            " [11 93 27]\n",
            " [12 50 19]]\n",
            "\n",
            "Block 29:\n",
            "[[32 36 73]\n",
            " [93 27 72]\n",
            " [50 19 91]]\n",
            "\n",
            "Block 30:\n",
            "[[36 73  2]\n",
            " [27 72 74]\n",
            " [19 91 34]]\n",
            "\n",
            "Block 31:\n",
            "[[73  2 82]\n",
            " [72 74 88]\n",
            " [91 34 29]]\n",
            "\n",
            "Block 32:\n",
            "[[ 2 82 27]\n",
            " [74 88  5]\n",
            " [34 29 18]]\n",
            "\n",
            "Block 33:\n",
            "[[ 8 16 48]\n",
            " [57 22  5]\n",
            " [75 72 52]]\n",
            "\n",
            "Block 34:\n",
            "[[16 48 11]\n",
            " [22  5 12]\n",
            " [72 52  7]]\n",
            "\n",
            "Block 35:\n",
            "[[48 11 93]\n",
            " [ 5 12 50]\n",
            " [52  7 30]]\n",
            "\n",
            "Block 36:\n",
            "[[11 93 27]\n",
            " [12 50 19]\n",
            " [ 7 30  0]]\n",
            "\n",
            "Block 37:\n",
            "[[93 27 72]\n",
            " [50 19 91]\n",
            " [30  0 51]]\n",
            "\n",
            "Block 38:\n",
            "[[27 72 74]\n",
            " [19 91 34]\n",
            " [ 0 51 99]]\n",
            "\n",
            "Block 39:\n",
            "[[72 74 88]\n",
            " [91 34 29]\n",
            " [51 99 67]]\n",
            "\n",
            "Block 40:\n",
            "[[74 88  5]\n",
            " [34 29 18]\n",
            " [99 67 15]]\n",
            "\n",
            "Block 41:\n",
            "[[57 22  5]\n",
            " [75 72 52]\n",
            " [71 49 91]]\n",
            "\n",
            "Block 42:\n",
            "[[22  5 12]\n",
            " [72 52  7]\n",
            " [49 91 30]]\n",
            "\n",
            "Block 43:\n",
            "[[ 5 12 50]\n",
            " [52  7 30]\n",
            " [91 30 23]]\n",
            "\n",
            "Block 44:\n",
            "[[12 50 19]\n",
            " [ 7 30  0]\n",
            " [30 23 83]]\n",
            "\n",
            "Block 45:\n",
            "[[50 19 91]\n",
            " [30  0 51]\n",
            " [23 83 21]]\n",
            "\n",
            "Block 46:\n",
            "[[19 91 34]\n",
            " [ 0 51 99]\n",
            " [83 21 23]]\n",
            "\n",
            "Block 47:\n",
            "[[91 34 29]\n",
            " [51 99 67]\n",
            " [21 23  1]]\n",
            "\n",
            "Block 48:\n",
            "[[34 29 18]\n",
            " [99 67 15]\n",
            " [23  1 79]]\n",
            "\n",
            "Block 49:\n",
            "[[75 72 52]\n",
            " [71 49 91]\n",
            " [99  9 70]]\n",
            "\n",
            "Block 50:\n",
            "[[72 52  7]\n",
            " [49 91 30]\n",
            " [ 9 70 66]]\n",
            "\n",
            "Block 51:\n",
            "[[52  7 30]\n",
            " [91 30 23]\n",
            " [70 66 74]]\n",
            "\n",
            "Block 52:\n",
            "[[ 7 30  0]\n",
            " [30 23 83]\n",
            " [66 74 61]]\n",
            "\n",
            "Block 53:\n",
            "[[30  0 51]\n",
            " [23 83 21]\n",
            " [74 61 41]]\n",
            "\n",
            "Block 54:\n",
            "[[ 0 51 99]\n",
            " [83 21 23]\n",
            " [61 41 96]]\n",
            "\n",
            "Block 55:\n",
            "[[51 99 67]\n",
            " [21 23  1]\n",
            " [41 96  0]]\n",
            "\n",
            "Block 56:\n",
            "[[99 67 15]\n",
            " [23  1 79]\n",
            " [96  0  0]]\n",
            "\n",
            "Block 57:\n",
            "[[71 49 91]\n",
            " [99  9 70]\n",
            " [53 92 90]]\n",
            "\n",
            "Block 58:\n",
            "[[49 91 30]\n",
            " [ 9 70 66]\n",
            " [92 90 96]]\n",
            "\n",
            "Block 59:\n",
            "[[91 30 23]\n",
            " [70 66 74]\n",
            " [90 96 63]]\n",
            "\n",
            "Block 60:\n",
            "[[30 23 83]\n",
            " [66 74 61]\n",
            " [96 63 26]]\n",
            "\n",
            "Block 61:\n",
            "[[23 83 21]\n",
            " [74 61 41]\n",
            " [63 26 17]]\n",
            "\n",
            "Block 62:\n",
            "[[83 21 23]\n",
            " [61 41 96]\n",
            " [26 17 70]]\n",
            "\n",
            "Block 63:\n",
            "[[21 23  1]\n",
            " [41 96  0]\n",
            " [17 70 72]]\n",
            "\n",
            "Block 64:\n",
            "[[23  1 79]\n",
            " [96  0  0]\n",
            " [70 72 44]]\n",
            "\n"
          ]
        }
      ],
      "source": [
        "import numpy as np\n",
        "\n",
        "# Create a random 10x10 matrix\n",
        "matrix = np.random.randint(0, 100, (10, 10))\n",
        "\n",
        "# Function to extract all contiguous 3x3 blocks\n",
        "def extract_contiguous_blocks(matrix):\n",
        "    rows, cols = matrix.shape\n",
        "    block_size = 3\n",
        "    blocks = []\n",
        "\n",
        "    for i in range(rows - block_size + 1):\n",
        "        for j in range(cols - block_size + 1):\n",
        "            block = matrix[i:i+block_size, j:j+block_size]\n",
        "            blocks.append(block)\n",
        "\n",
        "    return blocks\n",
        "\n",
        "# Extract all contiguous 3x3 blocks from the matrix\n",
        "contiguous_blocks = extract_contiguous_blocks(matrix)\n",
        "\n",
        "# Print the extracted blocks\n",
        "for i, block in enumerate(contiguous_blocks):\n",
        "    print(f\"Block {i+1}:\")\n",
        "    print(block)\n",
        "    print()\n"
      ]
    },
    {
      "cell_type": "markdown",
      "id": "52836346",
      "metadata": {
        "id": "52836346"
      },
      "source": [
        "#### 85. Create a 2D array subclass such that Z[i,j] == Z[j,i] (★★★)"
      ]
    },
    {
      "cell_type": "code",
      "execution_count": null,
      "id": "4df70318",
      "metadata": {
        "id": "4df70318"
      },
      "outputs": [],
      "source": []
    },
    {
      "cell_type": "markdown",
      "id": "78c43ee5",
      "metadata": {
        "id": "78c43ee5"
      },
      "source": [
        "#### 86. Consider a set of p matrices with shape (n,n) and a set of p vectors with shape (n,1). How to compute the sum of of the p matrix products at once? (result has shape (n,1)) (★★★)"
      ]
    },
    {
      "cell_type": "code",
      "execution_count": null,
      "id": "32fd2c3b",
      "metadata": {
        "id": "32fd2c3b"
      },
      "outputs": [],
      "source": []
    },
    {
      "cell_type": "markdown",
      "id": "158f9945",
      "metadata": {
        "id": "158f9945"
      },
      "source": [
        "#### 87. Consider a 16x16 array, how to get the block-sum (block size is 4x4)? (★★★)"
      ]
    },
    {
      "cell_type": "code",
      "execution_count": null,
      "id": "5a9b808f",
      "metadata": {
        "id": "5a9b808f"
      },
      "outputs": [],
      "source": []
    },
    {
      "cell_type": "markdown",
      "id": "2e0ad860",
      "metadata": {
        "id": "2e0ad860"
      },
      "source": [
        "#### 88. How to implement the Game of Life using numpy arrays? (★★★)"
      ]
    },
    {
      "cell_type": "code",
      "execution_count": null,
      "id": "574acff5",
      "metadata": {
        "id": "574acff5"
      },
      "outputs": [],
      "source": []
    },
    {
      "cell_type": "markdown",
      "id": "69a892fa",
      "metadata": {
        "id": "69a892fa"
      },
      "source": [
        "#### 89. How to get the n largest values of an array (★★★)"
      ]
    },
    {
      "cell_type": "code",
      "execution_count": null,
      "id": "21b2bd48",
      "metadata": {
        "id": "21b2bd48"
      },
      "outputs": [],
      "source": []
    },
    {
      "cell_type": "markdown",
      "id": "b55ccacc",
      "metadata": {
        "id": "b55ccacc"
      },
      "source": [
        "#### 90. Given an arbitrary number of vectors, build the cartesian product (every combinations of every item) (★★★)"
      ]
    },
    {
      "cell_type": "code",
      "execution_count": 17,
      "id": "4b645da4",
      "metadata": {
        "id": "4b645da4",
        "colab": {
          "base_uri": "https://localhost:8080/"
        },
        "outputId": "033f7d58-b9a7-46a4-a881-13a991ff5516"
      },
      "outputs": [
        {
          "output_type": "stream",
          "name": "stdout",
          "text": [
            "[(1, 'a', 10), (1, 'a', 20), (1, 'b', 10), (1, 'b', 20), (2, 'a', 10), (2, 'a', 20), (2, 'b', 10), (2, 'b', 20), (3, 'a', 10), (3, 'a', 20), (3, 'b', 10), (3, 'b', 20)]\n"
          ]
        }
      ],
      "source": [
        "import itertools\n",
        "\n",
        "# Example vectors\n",
        "vector1 = [1, 2, 3]\n",
        "vector2 = ['a', 'b']\n",
        "vector3 = [10, 20]\n",
        "\n",
        "# Build the cartesian product of the vectors\n",
        "cartesian_product = list(itertools.product(vector1, vector2, vector3))\n",
        "\n",
        "print(cartesian_product)\n"
      ]
    },
    {
      "cell_type": "markdown",
      "id": "89187a23",
      "metadata": {
        "id": "89187a23"
      },
      "source": [
        "#### 91. How to create a record array from a regular array? (★★★)"
      ]
    },
    {
      "cell_type": "code",
      "execution_count": 18,
      "id": "da94c71a",
      "metadata": {
        "id": "da94c71a",
        "colab": {
          "base_uri": "https://localhost:8080/"
        },
        "outputId": "1a758af3-d2f7-4340-a2fe-643f89ba88cd"
      },
      "outputs": [
        {
          "output_type": "stream",
          "name": "stdout",
          "text": [
            "[(1, 'John', 25) (2, 'Alice', 30) (3, 'Bob', 22)]\n"
          ]
        }
      ],
      "source": [
        "import numpy as np\n",
        "\n",
        "# Regular array\n",
        "regular_array = np.array([(1, 'John', 25),\n",
        "                          (2, 'Alice', 30),\n",
        "                          (3, 'Bob', 22)],\n",
        "                         dtype=[('ID', int), ('Name', 'U10'), ('Age', int)])\n",
        "\n",
        "# Create a record array from the regular array\n",
        "record_array = np.rec.array(regular_array)\n",
        "\n",
        "print(record_array)\n",
        "\n"
      ]
    },
    {
      "cell_type": "markdown",
      "id": "aa70d4ca",
      "metadata": {
        "id": "aa70d4ca"
      },
      "source": [
        "#### 92. Consider a large vector Z, compute Z to the power of 3 using 3 different methods (★★★)"
      ]
    },
    {
      "cell_type": "code",
      "execution_count": 19,
      "id": "7cff1bf5",
      "metadata": {
        "id": "7cff1bf5"
      },
      "outputs": [],
      "source": [
        "import numpy as np\n",
        "\n",
        "# Create a large vector Z (example with 1000 elements)\n",
        "Z = np.random.rand(1000)\n",
        "\n",
        "# Compute Z to the power of 3 using numpy.power\n",
        "result1 = np.power(Z, 3)\n"
      ]
    },
    {
      "cell_type": "code",
      "source": [
        "import numpy as np\n",
        "\n",
        "# Create a large vector Z (example with 1000 elements)\n",
        "Z = np.random.rand(1000)\n",
        "\n",
        "# Compute Z to the power of 3 using the ** operator\n",
        "result2 = Z ** 3\n"
      ],
      "metadata": {
        "id": "ZGe8iePifv5r"
      },
      "id": "ZGe8iePifv5r",
      "execution_count": 20,
      "outputs": []
    },
    {
      "cell_type": "code",
      "source": [
        "import numpy as np\n",
        "\n",
        "# Create a large vector Z (example with 1000 elements)\n",
        "Z = np.random.rand(1000)\n",
        "\n",
        "# Compute Z to the power of 3 using the ** operator\n",
        "result2 = Z ** 3\n"
      ],
      "metadata": {
        "id": "X0CZO5RHf2mi"
      },
      "id": "X0CZO5RHf2mi",
      "execution_count": 22,
      "outputs": []
    },
    {
      "cell_type": "code",
      "source": [
        "import numpy as np\n",
        "\n",
        "# Create a large vector Z (example with 1000 elements)\n",
        "Z = np.random.rand(1000)\n",
        "\n",
        "# Compute Z to the power of 3 using numpy.multiply\n",
        "result3 = np.multiply(Z, Z, Z)\n",
        "# Alternatively, you can use the * operator for element-wise multiplication\n",
        "# result3 = Z * Z * Z\n"
      ],
      "metadata": {
        "id": "DmEk0JGFf2qK"
      },
      "id": "DmEk0JGFf2qK",
      "execution_count": 21,
      "outputs": []
    },
    {
      "cell_type": "markdown",
      "id": "5f79dd00",
      "metadata": {
        "id": "5f79dd00"
      },
      "source": [
        "#### 93. Consider two arrays A and B of shape (8,3) and (2,2). How to find rows of A that contain elements of each row of B regardless of the order of the elements in B? (★★★)"
      ]
    },
    {
      "cell_type": "markdown",
      "id": "a80570cd",
      "metadata": {
        "id": "a80570cd"
      },
      "source": [
        "#### 94. Considering a 10x3 matrix, extract rows with unequal values (e.g. [2,2,3]) (★★★)"
      ]
    },
    {
      "cell_type": "code",
      "execution_count": 26,
      "id": "84db8de1",
      "metadata": {
        "id": "84db8de1",
        "colab": {
          "base_uri": "https://localhost:8080/"
        },
        "outputId": "29f80132-86a1-4a3f-a043-49b8c866c7ea"
      },
      "outputs": [
        {
          "output_type": "stream",
          "name": "stdout",
          "text": [
            "[[4 4 4]\n",
            " [5 5 5]\n",
            " [2 2 3]\n",
            " [6 7 8]\n",
            " [9 9 9]\n",
            " [3 3 3]\n",
            " [1 1 1]\n",
            " [2 2 2]\n",
            " [7 7 7]]\n"
          ]
        }
      ],
      "source": [
        "import numpy as np\n",
        "\n",
        "# Create a 10x3 matrix (example)\n",
        "matrix = np.array([[1, 2, 3],\n",
        "                   [4, 4, 4],\n",
        "                   [5, 5, 5],\n",
        "                   [2, 2, 3],\n",
        "                   [6, 7, 8],\n",
        "                   [9, 9, 9],\n",
        "                   [3, 3, 3],\n",
        "                   [1, 1, 1],\n",
        "                   [2, 2, 2],\n",
        "                   [7, 7, 7]])\n",
        "\n",
        "# Find rows with unequal values\n",
        "rows_with_unequal_values = matrix[~np.all(matrix == matrix[0, :], axis=1)]\n",
        "\n",
        "print(rows_with_unequal_values)\n"
      ]
    },
    {
      "cell_type": "markdown",
      "id": "ba154f43",
      "metadata": {
        "id": "ba154f43"
      },
      "source": [
        "#### 95. Convert a vector of ints into a matrix binary representation (★★★)"
      ]
    },
    {
      "cell_type": "code",
      "execution_count": 27,
      "id": "cfa96e1b",
      "metadata": {
        "id": "cfa96e1b",
        "colab": {
          "base_uri": "https://localhost:8080/"
        },
        "outputId": "092cf2df-146a-4edc-b66a-8436d5e24721"
      },
      "outputs": [
        {
          "output_type": "stream",
          "name": "stdout",
          "text": [
            "[[0 0 0 0 0 0 0 1]\n",
            " [0 0 0 0 0 0 1 0]\n",
            " [0 0 0 0 0 0 1 1]\n",
            " [0 0 0 0 0 1 0 0]\n",
            " [0 0 0 0 0 1 0 1]]\n"
          ]
        }
      ],
      "source": [
        "import numpy as np\n",
        "\n",
        "# Example vector of integers\n",
        "vector_ints = np.array([1, 2, 3, 4, 5])\n",
        "\n",
        "# Convert the vector of integers into a matrix binary representation\n",
        "matrix_binary = np.unpackbits(vector_ints[:, np.newaxis].astype(np.uint8), axis=1)\n",
        "\n",
        "print(matrix_binary)\n",
        "\n"
      ]
    },
    {
      "cell_type": "markdown",
      "id": "420e2343",
      "metadata": {
        "id": "420e2343"
      },
      "source": [
        "#### 96. Given a two dimensional array, how to extract unique rows? (★★★)"
      ]
    },
    {
      "cell_type": "code",
      "execution_count": 28,
      "id": "4680dfd0",
      "metadata": {
        "id": "4680dfd0",
        "colab": {
          "base_uri": "https://localhost:8080/"
        },
        "outputId": "85bf93d6-2aa9-4104-9316-28c4ab162534"
      },
      "outputs": [
        {
          "output_type": "stream",
          "name": "stdout",
          "text": [
            "[[1 2 3]\n",
            " [4 5 6]\n",
            " [7 8 9]]\n"
          ]
        }
      ],
      "source": [
        "import numpy as np\n",
        "\n",
        "# Example two-dimensional array\n",
        "two_d_array = np.array([[1, 2, 3],\n",
        "                        [4, 5, 6],\n",
        "                        [1, 2, 3],\n",
        "                        [7, 8, 9],\n",
        "                        [4, 5, 6]])\n",
        "\n",
        "# Extract unique rows from the two-dimensional array\n",
        "unique_rows = np.unique(two_d_array, axis=0)\n",
        "\n",
        "print(unique_rows)\n"
      ]
    },
    {
      "cell_type": "markdown",
      "id": "89fef2f3",
      "metadata": {
        "id": "89fef2f3"
      },
      "source": [
        "#### 97. Considering 2 vectors A & B, write the einsum equivalent of inner, outer, sum, and mul function (★★★)"
      ]
    },
    {
      "cell_type": "code",
      "execution_count": 29,
      "id": "bb9c14b2",
      "metadata": {
        "id": "bb9c14b2",
        "colab": {
          "base_uri": "https://localhost:8080/"
        },
        "outputId": "362fcb47-eb61-401f-d872-15e18b2ff2d4"
      },
      "outputs": [
        {
          "output_type": "stream",
          "name": "stdout",
          "text": [
            "32\n"
          ]
        }
      ],
      "source": [
        "import numpy as np\n",
        "\n",
        "A = np.array([1, 2, 3])\n",
        "B = np.array([4, 5, 6])\n",
        "\n",
        "# Equivalent to np.inner(A, B)\n",
        "inner_product = np.einsum('i,i->', A, B)\n",
        "\n",
        "print(inner_product)  # Output: 32\n"
      ]
    },
    {
      "cell_type": "code",
      "source": [
        "import numpy as np\n",
        "\n",
        "A = np.array([1, 2, 3])\n",
        "B = np.array([4, 5, 6])\n",
        "\n",
        "# Equivalent to np.outer(A, B)\n",
        "outer_product = np.einsum('i,j->ij', A, B)\n",
        "\n",
        "print(outer_product)\n",
        "\n"
      ],
      "metadata": {
        "colab": {
          "base_uri": "https://localhost:8080/"
        },
        "id": "S1DixjFmhHBg",
        "outputId": "3e0861c8-8afd-4f4f-c669-26cead1294f6"
      },
      "id": "S1DixjFmhHBg",
      "execution_count": 30,
      "outputs": [
        {
          "output_type": "stream",
          "name": "stdout",
          "text": [
            "[[ 4  5  6]\n",
            " [ 8 10 12]\n",
            " [12 15 18]]\n"
          ]
        }
      ]
    },
    {
      "cell_type": "code",
      "source": [
        "import numpy as np\n",
        "\n",
        "A = np.array([1, 2, 3, 4])\n",
        "\n",
        "# Equivalent to np.sum(A)\n",
        "sum_result = np.einsum('i->', A)\n",
        "\n",
        "print(sum_result)  # Output: 10\n",
        "\n"
      ],
      "metadata": {
        "colab": {
          "base_uri": "https://localhost:8080/"
        },
        "id": "ZJilUlIUhHES",
        "outputId": "cb95328c-e07d-42c6-9020-2dfe82c1cb21"
      },
      "id": "ZJilUlIUhHES",
      "execution_count": 31,
      "outputs": [
        {
          "output_type": "stream",
          "name": "stdout",
          "text": [
            "10\n"
          ]
        }
      ]
    },
    {
      "cell_type": "code",
      "source": [
        "import numpy as np\n",
        "\n",
        "A = np.array([1, 2, 3])\n",
        "B = np.array([4, 5, 6])\n",
        "\n",
        "# Equivalent to np.multiply(A, B) or A * B\n",
        "mul_result = np.einsum('i,i->i', A, B)\n",
        "\n",
        "print(mul_result)  # Output: [ 4 10 18]\n"
      ],
      "metadata": {
        "colab": {
          "base_uri": "https://localhost:8080/"
        },
        "id": "8paUd2olhHHB",
        "outputId": "78ddda78-f460-446a-c254-17a9d80e426d"
      },
      "id": "8paUd2olhHHB",
      "execution_count": 32,
      "outputs": [
        {
          "output_type": "stream",
          "name": "stdout",
          "text": [
            "[ 4 10 18]\n"
          ]
        }
      ]
    },
    {
      "cell_type": "markdown",
      "id": "7ad5cc5f",
      "metadata": {
        "id": "7ad5cc5f"
      },
      "source": [
        "#### 98. Considering a path described by two vectors (X,Y), how to sample it using equidistant samples (★★★)?"
      ]
    },
    {
      "cell_type": "code",
      "source": [
        "import numpy as np\n",
        "\n",
        "# Example path described by two vectors (X, Y)\n",
        "X = np.array([1, 2, 4, 7, 10])\n",
        "Y = np.array([3, 6, 8, 9, 12])\n",
        "\n",
        "# Number of equidistant samples\n",
        "num_samples = 10\n",
        "\n",
        "# Sample the path using equidistant samples\n",
        "sampled_X = np.linspace(X[0], X[-1], num_samples)\n",
        "sampled_Y = np.interp(sampled_X, X, Y)\n",
        "\n",
        "print(\"Sampled X:\", sampled_X)\n",
        "print(\"Sampled Y:\", sampled_Y)\n"
      ],
      "metadata": {
        "colab": {
          "base_uri": "https://localhost:8080/"
        },
        "id": "mEH3nO4rg_8D",
        "outputId": "057c1445-0021-4429-fc2f-b8440ea580de"
      },
      "id": "mEH3nO4rg_8D",
      "execution_count": 33,
      "outputs": [
        {
          "output_type": "stream",
          "name": "stdout",
          "text": [
            "Sampled X: [ 1.  2.  3.  4.  5.  6.  7.  8.  9. 10.]\n",
            "Sampled Y: [ 3.          6.          7.          8.          8.33333333  8.66666667\n",
            "  9.         10.         11.         12.        ]\n"
          ]
        }
      ]
    },
    {
      "cell_type": "markdown",
      "id": "2b69272e",
      "metadata": {
        "id": "2b69272e"
      },
      "source": [
        "#### 99. Given an integer n and a 2D array X, select from X the rows which can be interpreted as draws from a multinomial distribution with n degrees, i.e., the rows which only contain integers and which sum to n. (★★★)"
      ]
    },
    {
      "cell_type": "code",
      "execution_count": 36,
      "id": "55c8b034",
      "metadata": {
        "id": "55c8b034",
        "colab": {
          "base_uri": "https://localhost:8080/"
        },
        "outputId": "f8db50c9-60ee-43df-ac58-59cb6b3a2936"
      },
      "outputs": [
        {
          "output_type": "stream",
          "name": "stdout",
          "text": [
            "[[1 2 3]\n",
            " [0 0 6]\n",
            " [3 1 2]]\n"
          ]
        }
      ],
      "source": [
        "import numpy as np\n",
        "\n",
        "# Example 2D array X\n",
        "X = np.array([[1, 2, 3],\n",
        "              [4, 2, 4],\n",
        "              [0, 0, 6],\n",
        "              [2, 3, 5],\n",
        "              [3, 1, 2],\n",
        "              [6, 2, 1]])\n",
        "\n",
        "# Given integer n\n",
        "n = 6\n",
        "\n",
        "# Function to check if a row contains only integers and sum to n\n",
        "def is_multinomial_row(row):\n",
        "    return np.all(row.astype(int) == row) and np.sum(row) == n\n",
        "\n",
        "# Use numpy.apply_along_axis to apply the function along rows\n",
        "selected_rows = X[np.apply_along_axis(is_multinomial_row, 1, X)]\n",
        "\n",
        "print(selected_rows)\n"
      ]
    },
    {
      "cell_type": "markdown",
      "id": "59ab5516",
      "metadata": {
        "id": "59ab5516"
      },
      "source": [
        "#### 100. Compute bootstrapped 95% confidence intervals for the mean of a 1D array X (i.e., resample the elements of an array with replacement N times, compute the mean of each sample, and then compute percentiles over the means). (★★★)"
      ]
    },
    {
      "cell_type": "code",
      "execution_count": 37,
      "id": "450877d8",
      "metadata": {
        "id": "450877d8",
        "colab": {
          "base_uri": "https://localhost:8080/"
        },
        "outputId": "fe1f5004-b617-4d63-c8fb-d320403e21ae"
      },
      "outputs": [
        {
          "output_type": "stream",
          "name": "stdout",
          "text": [
            "95% Confidence Interval: [3.7975 7.2   ]\n"
          ]
        }
      ],
      "source": [
        "import numpy as np\n",
        "\n",
        "# Example 1D array X\n",
        "X = np.array([1, 2, 3, 4, 5, 6, 7, 8, 9, 10])\n",
        "\n",
        "# Number of bootstrap samples\n",
        "N = 1000\n",
        "\n",
        "# Array to store the sample means\n",
        "sample_means = np.zeros(N)\n",
        "\n",
        "# Perform bootstrapping\n",
        "for i in range(N):\n",
        "    # Resample with replacement\n",
        "    resampled_X = np.random.choice(X, size=len(X), replace=True)\n",
        "    # Compute the mean of the resampled sample\n",
        "    sample_means[i] = np.mean(resampled_X)\n",
        "\n",
        "# Calculate the 95% confidence interval\n",
        "confidence_interval = np.percentile(sample_means, [2.5, 97.5])\n",
        "\n",
        "print(\"95% Confidence Interval:\", confidence_interval)\n"
      ]
    },
    {
      "cell_type": "code",
      "source": [],
      "metadata": {
        "id": "5hzEL8ZTh8tH"
      },
      "id": "5hzEL8ZTh8tH",
      "execution_count": null,
      "outputs": []
    }
  ],
  "metadata": {
    "kernelspec": {
      "display_name": "Python 3 (ipykernel)",
      "language": "python",
      "name": "python3"
    },
    "language_info": {
      "codemirror_mode": {
        "name": "ipython",
        "version": 3
      },
      "file_extension": ".py",
      "mimetype": "text/x-python",
      "name": "python",
      "nbconvert_exporter": "python",
      "pygments_lexer": "ipython3",
      "version": "3.9.13"
    },
    "colab": {
      "provenance": []
    }
  },
  "nbformat": 4,
  "nbformat_minor": 5
}