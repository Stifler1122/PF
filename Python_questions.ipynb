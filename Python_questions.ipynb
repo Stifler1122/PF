{
  "nbformat": 4,
  "nbformat_minor": 0,
  "metadata": {
    "colab": {
      "provenance": []
    },
    "kernelspec": {
      "name": "python3",
      "display_name": "Python 3"
    },
    "language_info": {
      "name": "python"
    }
  },
  "cells": [
    {
      "cell_type": "code",
      "execution_count": null,
      "metadata": {
        "colab": {
          "base_uri": "https://localhost:8080/"
        },
        "id": "Z4Guef5BCvrD",
        "outputId": "54727202-86d2-48de-d87f-6f1e8a683816"
      },
      "outputs": [
        {
          "output_type": "stream",
          "name": "stdout",
          "text": [
            "sum 30\n"
          ]
        }
      ],
      "source": [
        "# Python program to add two numbers\n",
        "num1= 10\n",
        "num2= 20\n",
        "sum= num1+num2\n",
        "sum\n",
        "print('sum', sum)\n"
      ]
    },
    {
      "cell_type": "code",
      "source": [
        "# Maximum of two numbers in Python\n",
        "num1= 10\n",
        "num2= 20\n",
        "max_1= max(num1, num2)\n",
        "max_1"
      ],
      "metadata": {
        "colab": {
          "base_uri": "https://localhost:8080/"
        },
        "id": "4t2pDVhmDeVU",
        "outputId": "55e6c3d4-440a-44a0-bc0e-42b638cf7175"
      },
      "execution_count": null,
      "outputs": [
        {
          "output_type": "execute_result",
          "data": {
            "text/plain": [
              "20"
            ]
          },
          "metadata": {},
          "execution_count": 4
        }
      ]
    },
    {
      "cell_type": "code",
      "source": [
        "def max_num(a,b):\n",
        "  if a>b:\n",
        "    print(a, \"is max\")\n",
        "  else:\n",
        "    print(b ,\"is max\")\n"
      ],
      "metadata": {
        "id": "yZGgbDeuEcwR"
      },
      "execution_count": null,
      "outputs": []
    },
    {
      "cell_type": "code",
      "source": [
        "num1=10\n",
        "num2=20\n",
        "c= max_num(num1, num2)"
      ],
      "metadata": {
        "colab": {
          "base_uri": "https://localhost:8080/"
        },
        "id": "ju2-6YGTFX_p",
        "outputId": "f8b930e1-998c-4297-eb9c-a6b0ae1edda3"
      },
      "execution_count": null,
      "outputs": [
        {
          "output_type": "stream",
          "name": "stdout",
          "text": [
            "20 is max\n"
          ]
        }
      ]
    },
    {
      "cell_type": "code",
      "source": [
        "# Python 3 program to find\n",
        "# factorial of given number\n",
        "def factorial(n):\n",
        "\n",
        "\n",
        "\treturn 1 if (n==1 or n==0) else n * factorial(n - 1)\n",
        "\n",
        "\n",
        "num = 6\n",
        "print(\"Factorial of\",num,\"is\",factorial(num))\n"
      ],
      "metadata": {
        "colab": {
          "base_uri": "https://localhost:8080/"
        },
        "id": "SEAZOMCwIaYn",
        "outputId": "13a609b9-0bf3-4c97-a0e9-b494bc724a93"
      },
      "execution_count": null,
      "outputs": [
        {
          "output_type": "stream",
          "name": "stdout",
          "text": [
            "Factorial of 6 is 720\n"
          ]
        }
      ]
    },
    {
      "cell_type": "code",
      "source": [
        "def prime_or_not (n):\n",
        "  if n!=0:\n",
        "    for a in range(2,int(n/2)):\n",
        "      if n % a == 0:\n",
        "        print('number is not prime')\n",
        "        break\n",
        "    else:\n",
        "      print('number is prime')\n",
        "\n",
        "\n",
        "\n"
      ],
      "metadata": {
        "id": "4PE0Jva3I7FR"
      },
      "execution_count": null,
      "outputs": []
    },
    {
      "cell_type": "code",
      "source": [
        "b=prime_or_not(8)\n",
        "b"
      ],
      "metadata": {
        "colab": {
          "base_uri": "https://localhost:8080/"
        },
        "id": "PnaLmqxIWg9N",
        "outputId": "4c833671-f2d3-4c6b-a397-1075461025ed"
      },
      "execution_count": null,
      "outputs": [
        {
          "output_type": "stream",
          "name": "stdout",
          "text": [
            "number is not prime\n"
          ]
        }
      ]
    },
    {
      "cell_type": "code",
      "source": [
        "#sum of elements of array\n",
        "def sum_arr(a):\n",
        "  sum=0\n",
        "  for i in a :\n",
        "    sum+=i\n",
        "\n",
        "  return sum\n",
        "\n",
        "\n",
        "\n"
      ],
      "metadata": {
        "id": "0weVJeE3Iap_"
      },
      "execution_count": null,
      "outputs": []
    },
    {
      "cell_type": "code",
      "source": [
        "arrr= [1,2,3,4,5,6]\n",
        "b= sum_arr(arrr)\n",
        "b"
      ],
      "metadata": {
        "id": "D_5I9yWV4bY1",
        "colab": {
          "base_uri": "https://localhost:8080/"
        },
        "outputId": "32f5404c-3efd-4935-a938-159c77b1af10"
      },
      "execution_count": null,
      "outputs": [
        {
          "output_type": "execute_result",
          "data": {
            "text/plain": [
              "21"
            ]
          },
          "metadata": {},
          "execution_count": 5
        }
      ]
    },
    {
      "cell_type": "code",
      "source": [
        "# Python Program to find largest element in an array\n",
        "def largest_arr(a):\n",
        "  largest = 0\n",
        "  for i in a :\n",
        "    if i > largest:\n",
        "      largest = i\n",
        "  return largest\n",
        "\n",
        "\n"
      ],
      "metadata": {
        "id": "9JQk9ANy4bbk"
      },
      "execution_count": null,
      "outputs": []
    },
    {
      "cell_type": "code",
      "source": [
        "arrr= [1,2,3,4,5,6]\n",
        "b= largest_arr(arrr)\n",
        "b\n"
      ],
      "metadata": {
        "id": "fLU0EYuV4bfB",
        "colab": {
          "base_uri": "https://localhost:8080/"
        },
        "outputId": "94e27b6d-855d-487e-abe7-4bdc21f7b233"
      },
      "execution_count": null,
      "outputs": [
        {
          "output_type": "execute_result",
          "data": {
            "text/plain": [
              "6"
            ]
          },
          "metadata": {},
          "execution_count": 11
        }
      ]
    },
    {
      "cell_type": "code",
      "source": [
        "#reversal of array elements by d elements\n",
        "def rev_arr(arr, d):\n",
        "  d= d%n\n",
        "  result= arr[d:]+ arr[:d]\n"
      ],
      "metadata": {
        "id": "1QyAjE2ihNFC"
      },
      "execution_count": null,
      "outputs": []
    },
    {
      "cell_type": "code",
      "source": [
        "arrr= [1,2,3,4,5,6]\n",
        "b=rev_arr(arrr,2)\n",
        "b\n",
        "\n"
      ],
      "metadata": {
        "id": "ScqPDkP8hNIc"
      },
      "execution_count": null,
      "outputs": []
    },
    {
      "cell_type": "code",
      "source": [
        "# Python program to interchange first and last elements in a list\n",
        "\n",
        "def interchange_first_last(lst):\n",
        "    if len(lst) >= 2:\n",
        "        lst[0], lst[-1] = lst[-1], lst[0]\n",
        "\n",
        "\n",
        "my_list = [1, 2, 3, 4, 5]\n",
        "print(\"Original list:\", my_list)\n",
        "\n",
        "interchange_first_last(my_list)\n",
        "print(\"Interchanged list:\", my_list)"
      ],
      "metadata": {
        "id": "NTLRQT-lLD4G",
        "colab": {
          "base_uri": "https://localhost:8080/"
        },
        "outputId": "3af61416-0abc-4062-bbea-0c1e7f08ad47"
      },
      "execution_count": 1,
      "outputs": [
        {
          "output_type": "stream",
          "name": "stdout",
          "text": [
            "Original list: [1, 2, 3, 4, 5]\n",
            "Interchanged list: [5, 2, 3, 4, 1]\n"
          ]
        }
      ]
    },
    {
      "cell_type": "code",
      "source": [
        "# Python program to swap two elements in a list\n",
        "\n",
        "def swap_elements(lst, index1, index2):\n",
        "    if 0 <= index1 < len(lst) and 0 <= index2 < len(lst):\n",
        "        lst[index1], lst[index2] = lst[index2], lst[index1]\n",
        "\n",
        "my_list = [1, 2, 3, 4, 5]\n",
        "print(\"Original list:\", my_list)\n",
        "\n",
        "swap_elements(my_list, 1, 3)\n",
        "print(\"Swapped list:\", my_list)\n"
      ],
      "metadata": {
        "id": "WRuq6wQBLD64",
        "colab": {
          "base_uri": "https://localhost:8080/"
        },
        "outputId": "5e738458-3ac0-46af-81d5-e6ad723d5f1c"
      },
      "execution_count": 2,
      "outputs": [
        {
          "output_type": "stream",
          "name": "stdout",
          "text": [
            "Original list: [1, 2, 3, 4, 5]\n",
            "Swapped list: [1, 4, 3, 2, 5]\n"
          ]
        }
      ]
    },
    {
      "cell_type": "code",
      "source": [
        "#Python | Ways to find length of list\n",
        "\n",
        "my_list = [1, 2, 3, 4, 5]\n",
        "length = len(my_list)\n",
        "print(length)\n"
      ],
      "metadata": {
        "id": "IKDP_cXzLD-N",
        "colab": {
          "base_uri": "https://localhost:8080/"
        },
        "outputId": "b1acfb07-f9af-43fb-eeac-cb1c7812db98"
      },
      "execution_count": 3,
      "outputs": [
        {
          "output_type": "stream",
          "name": "stdout",
          "text": [
            "5\n"
          ]
        }
      ]
    },
    {
      "cell_type": "code",
      "source": [
        "#Python | Ways to check if element exists in list\n",
        "\n",
        "my_list = [1, 2, 3, 4, 5]\n",
        "element = 3\n",
        "\n",
        "exists = False\n",
        "for item in my_list:\n",
        "    if item == element:\n",
        "        exists = True\n",
        "        break\n",
        "\n",
        "if exists:\n",
        "    print(\"Element exists in the list.\")\n",
        "else:\n",
        "    print(\"Element does not exist in the list.\")\n"
      ],
      "metadata": {
        "id": "vC4dQoIShNnA",
        "colab": {
          "base_uri": "https://localhost:8080/"
        },
        "outputId": "0ac9be56-7cd6-444d-844d-e5bafd828e19"
      },
      "execution_count": 4,
      "outputs": [
        {
          "output_type": "stream",
          "name": "stdout",
          "text": [
            "Element exists in the list.\n"
          ]
        }
      ]
    },
    {
      "cell_type": "code",
      "source": [
        "#Python | Program to print duplicates from a list of integers\n",
        "\n",
        "def find_duplicates(lst):\n",
        "    seen = set()\n",
        "    duplicates = set()\n",
        "\n",
        "    for num in lst:\n",
        "        if num in seen:\n",
        "            duplicates.add(num)\n",
        "        else:\n",
        "            seen.add(num)\n",
        "\n",
        "    return list(duplicates)\n",
        "\n",
        "\n",
        "my_list = [1, 2, 3, 2, 4, 5, 3]\n",
        "duplicates = find_duplicates(my_list)\n",
        "print(\"Duplicates:\", duplicates)\n"
      ],
      "metadata": {
        "id": "Kf_pjFczhNuJ",
        "colab": {
          "base_uri": "https://localhost:8080/"
        },
        "outputId": "0bee48c9-1860-4d65-a8e3-16ecca65b03d"
      },
      "execution_count": 5,
      "outputs": [
        {
          "output_type": "stream",
          "name": "stdout",
          "text": [
            "Duplicates: [2, 3]\n"
          ]
        }
      ]
    },
    {
      "cell_type": "code",
      "source": [
        "#Python | Sort the values of first list using second list\n",
        "\n",
        "def sort_list_using_another(first_list, second_list):\n",
        "    # Zip the two lists together to create pairs of elements\n",
        "    zipped_lists = zip(second_list, first_list)\n",
        "\n",
        "    # Sort the zipped lists based on the elements from the second list\n",
        "    sorted_pairs = sorted(zipped_lists)\n",
        "\n",
        "    # Unzip the sorted pairs to get the sorted first list\n",
        "    sorted_first_list = [element for _, element in sorted_pairs]\n",
        "\n",
        "    return sorted_first_list\n",
        "\n",
        "\n",
        "list1 = [5, 2, 9, 1, 7]\n",
        "list2 = [1, 4, 3, 2, 5]\n",
        "\n",
        "sorted_list1 = sort_list_using_another(list1, list2)\n",
        "print(\"Sorted list:\", sorted_list1)\n"
      ],
      "metadata": {
        "colab": {
          "base_uri": "https://localhost:8080/"
        },
        "id": "7sQArQnaIv_3",
        "outputId": "44e495ef-2d9d-4f5f-9171-d3f31d63f432"
      },
      "execution_count": 6,
      "outputs": [
        {
          "output_type": "stream",
          "name": "stdout",
          "text": [
            "Sorted list: [5, 1, 9, 2, 7]\n"
          ]
        }
      ]
    },
    {
      "cell_type": "code",
      "source": [
        "#Python program to find the sum of all items in a dictionary\n",
        "\n",
        "def sum_dict_values(dictionary):\n",
        "    return sum(dictionary.values())\n",
        "\n",
        "\n",
        "my_dict = {'a': 10, 'b': 20, 'c': 30}\n",
        "total_sum = sum_dict_values(my_dict)\n",
        "print(\"Sum of all items in the dictionary:\", total_sum)\n"
      ],
      "metadata": {
        "colab": {
          "base_uri": "https://localhost:8080/"
        },
        "id": "lg1uFjwhIwDB",
        "outputId": "50efe26f-d298-4ab1-d2ca-955abb1d4b23"
      },
      "execution_count": 7,
      "outputs": [
        {
          "output_type": "stream",
          "name": "stdout",
          "text": [
            "Sum of all items in the dictionary: 60\n"
          ]
        }
      ]
    },
    {
      "cell_type": "code",
      "source": [
        "#Python | Sort Python Dictionaries by Key or Value\n",
        "\n",
        "my_dict = {'c': 30, 'a': 10, 'b': 20}\n",
        "\n",
        "# Sort by keys in ascending order\n",
        "sorted_dict_by_key = dict(sorted(my_dict.items()))\n",
        "\n",
        "# Sort by keys in descending order\n",
        "sorted_dict_by_key_desc = dict(sorted(my_dict.items(), reverse=True))\n",
        "\n",
        "print(\"Sorted by key (ascending):\", sorted_dict_by_key)\n",
        "print(\"Sorted by key (descending):\", sorted_dict_by_key_desc)\n"
      ],
      "metadata": {
        "colab": {
          "base_uri": "https://localhost:8080/"
        },
        "id": "gBm9PUxHIwGX",
        "outputId": "c40d362b-1ab1-4374-9b4f-9ad875ca53ec"
      },
      "execution_count": 8,
      "outputs": [
        {
          "output_type": "stream",
          "name": "stdout",
          "text": [
            "Sorted by key (ascending): {'a': 10, 'b': 20, 'c': 30}\n",
            "Sorted by key (descending): {'c': 30, 'b': 20, 'a': 10}\n"
          ]
        }
      ]
    },
    {
      "cell_type": "code",
      "source": [
        "#Python | Remove all duplicates words from a given sentence\n",
        "\n",
        "def remove_duplicates(sentence):\n",
        "    # Split the sentence into words\n",
        "    words = sentence.split()\n",
        "\n",
        "    # Use a set to store unique words\n",
        "    unique_words = set()\n",
        "\n",
        "    # List comprehension to create a new list with unique words\n",
        "    unique_sentence = [word for word in words if word not in unique_words and not unique_words.add(word)]\n",
        "\n",
        "    # Join the unique words back into a sentence\n",
        "    result = \" \".join(unique_sentence)\n",
        "    return result\n",
        "\n",
        "\n",
        "sentence = \"this is a test sentence to remove duplicate words in this sentence is a test\"\n",
        "result = remove_duplicates(sentence)\n",
        "print(result)\n"
      ],
      "metadata": {
        "colab": {
          "base_uri": "https://localhost:8080/"
        },
        "id": "JrLyrvWtIwPN",
        "outputId": "6a62b515-1fc6-404e-af5e-184d753b7bed"
      },
      "execution_count": 9,
      "outputs": [
        {
          "output_type": "stream",
          "name": "stdout",
          "text": [
            "this is a test sentence to remove duplicate words in\n"
          ]
        }
      ]
    },
    {
      "cell_type": "code",
      "source": [
        "#Counting the frequencies in a list using dictionary in Python\n",
        "\n",
        "def count_frequencies(input_list):\n",
        "    frequency_dict = {}  # Create an empty dictionary to store frequencies\n",
        "\n",
        "    for item in input_list:\n",
        "        if item in frequency_dict:\n",
        "            frequency_dict[item] += 1\n",
        "        else:\n",
        "            frequency_dict[item] = 1\n",
        "\n",
        "    return frequency_dict\n",
        "\n",
        "my_list = [1, 2, 3, 2, 2, 4, 5, 3, 1, 1, 6]\n",
        "result = count_frequencies(my_list)\n",
        "print(result)\n"
      ],
      "metadata": {
        "colab": {
          "base_uri": "https://localhost:8080/"
        },
        "id": "PsMY3B5QJ1rv",
        "outputId": "d7ae37ce-42f5-463f-c9d6-b9e3d572af36"
      },
      "execution_count": 10,
      "outputs": [
        {
          "output_type": "stream",
          "name": "stdout",
          "text": [
            "{1: 3, 2: 3, 3: 2, 4: 1, 5: 1, 6: 1}\n"
          ]
        }
      ]
    },
    {
      "cell_type": "code",
      "source": [
        "#Python | Convert a list of Tuples into Dictionary\n",
        "\n",
        "def list_of_tuples_to_dict(tuple_list):\n",
        "    my_dict = dict(tuple_list)\n",
        "    return my_dict\n",
        "\n",
        "# Example usage\n",
        "my_list = [(1, 'apple'), (2, 'banana'), (3, 'orange')]\n",
        "result = list_of_tuples_to_dict(my_list)\n",
        "print(result)\n"
      ],
      "metadata": {
        "colab": {
          "base_uri": "https://localhost:8080/"
        },
        "id": "aGrYTMZ9KMub",
        "outputId": "4ad2f0da-acd6-4616-dc0c-41d3d896c4ae"
      },
      "execution_count": 11,
      "outputs": [
        {
          "output_type": "stream",
          "name": "stdout",
          "text": [
            "{1: 'apple', 2: 'banana', 3: 'orange'}\n"
          ]
        }
      ]
    }
  ]
}