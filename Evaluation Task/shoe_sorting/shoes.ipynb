{
  "cells": [
    {
      "cell_type": "code",
      "execution_count": null,
      "metadata": {
        "id": "CGwFlYOGbiDa"
      },
      "outputs": [],
      "source": [
        "import os\n",
        "import torch\n",
        "import torchvision\n",
        "import tarfile\n",
        "import torch.nn as nn\n",
        "import numpy as np\n",
        "import torch.nn.functional as F\n",
        "from torchvision.datasets.utils import download_url\n",
        "from torchvision.datasets import ImageFolder\n",
        "from torch.utils.data import DataLoader\n",
        "import torchvision.transforms as tt\n",
        "from torch.utils.data import random_split\n",
        "from torchvision.utils import make_grid\n",
        "import matplotlib\n",
        "import matplotlib.pyplot as plt\n",
        "%matplotlib inline\n",
        "\n",
        "matplotlib.rcParams['figure.facecolor'] = '#ffffff'"
      ]
    },
    {
      "cell_type": "code",
      "execution_count": null,
      "metadata": {
        "colab": {
          "base_uri": "https://localhost:8080/"
        },
        "id": "2DaqJg-Cb4fB",
        "outputId": "7695a9b9-8134-4812-dc68-603506c8129a"
      },
      "outputs": [
        {
          "output_type": "stream",
          "name": "stdout",
          "text": [
            "Mounted at /content/drive\n"
          ]
        },
        {
          "output_type": "execute_result",
          "data": {
            "text/plain": [
              "0"
            ]
          },
          "metadata": {},
          "execution_count": 2
        }
      ],
      "source": [
        "import requests\n",
        "from google.colab import drive\n",
        "\n",
        "# Mount Google Drive\n",
        "drive.mount('/content/drive')\n",
        "\n",
        "# Path to the zip folder in your Google Drive\n",
        "zip_folder_path = '/content/drive/MyDrive/shoes60.zip'\n",
        "\n",
        "# Destination directory to extract the contents of the zip folder\n",
        "extract_dir = './data'\n",
        "\n",
        "# Extract the zip folder\n",
        "os.makedirs(extract_dir, exist_ok=True)\n",
        "os.system(f'unzip \"{zip_folder_path}\" -d \"{extract_dir}\"')\n"
      ]
    },
    {
      "cell_type": "code",
      "execution_count": null,
      "metadata": {
        "colab": {
          "base_uri": "https://localhost:8080/"
        },
        "id": "z00uzJgwcwuN",
        "outputId": "f179d308-92c5-48b2-c282-7b2689abf4d8"
      },
      "outputs": [
        {
          "output_type": "stream",
          "name": "stdout",
          "text": [
            "['shoes60']\n"
          ]
        }
      ],
      "source": [
        "print(os.listdir(extract_dir))"
      ]
    },
    {
      "cell_type": "code",
      "source": [
        "import os\n",
        "\n",
        "def rename_images_with_serial_number(folder_path):\n",
        "    if not os.path.isdir(folder_path):\n",
        "        raise ValueError(\"Invalid folder path provided.\")\n",
        "\n",
        "    # Get a list of all files in the folder\n",
        "    file_list = os.listdir(folder_path)\n",
        "\n",
        "    # Sort the files to ensure consistent order\n",
        "    file_list.sort()\n",
        "\n",
        "    # Start the serial number from 1\n",
        "    serial_number = 1\n",
        "\n",
        "    for filename in file_list:\n",
        "        # Check if the file is an image (you can add more image extensions if needed)\n",
        "        if filename.lower().endswith(('.png', '.jpg', '.jpeg', '.gif', '.bmp')):\n",
        "            # Create the new filename using the serial number\n",
        "            new_filename = f\"{serial_number:04d}.jpg\"  # Use leading zeros for better sorting\n",
        "\n",
        "            # Get the full paths for the old and new filenames\n",
        "            old_filepath = os.path.join(folder_path, filename)\n",
        "            new_filepath = os.path.join(folder_path, new_filename)\n",
        "\n",
        "            # Rename the file\n",
        "            os.rename(old_filepath, new_filepath)\n",
        "\n",
        "            # Increment the serial number for the next file\n",
        "            serial_number += 1\n",
        "\n",
        "    print(\"Image renaming completed successfully.\")\n",
        "\n",
        "\n"
      ],
      "metadata": {
        "id": "-w7Bv5y16Ql_"
      },
      "execution_count": null,
      "outputs": []
    },
    {
      "cell_type": "code",
      "source": [
        "rename_images_with_serial_number(\"/content/data/shoes60\")"
      ],
      "metadata": {
        "colab": {
          "base_uri": "https://localhost:8080/"
        },
        "id": "LpBO3KiJ6t5s",
        "outputId": "36a81856-d123-4b6e-99d7-f1d22e065051"
      },
      "execution_count": null,
      "outputs": [
        {
          "output_type": "stream",
          "name": "stdout",
          "text": [
            "Image renaming completed successfully.\n"
          ]
        }
      ]
    },
    {
      "cell_type": "code",
      "source": [
        "import cv2\n",
        "from google.colab.patches import cv2_imshow\n",
        "image_path = \"/content/data/shoes60/0001.jpg\"  # Replace with the actual path to the image causing the error\n",
        "image = cv2.imread(image_path)\n",
        "\n",
        "if image is None:\n",
        "    print(f\"Failed to read image: {image_path}\")\n",
        "else:\n",
        "    cv2_imshow(image)\n",
        "    cv2.waitKey(0)\n",
        "    cv2.destroyAllWindows()"
      ],
      "metadata": {
        "colab": {
          "base_uri": "https://localhost:8080/",
          "height": 119
        },
        "id": "F2_56IP866ZF",
        "outputId": "ca7d5849-f2fa-438e-ce8c-3e53762a6144"
      },
      "execution_count": null,
      "outputs": [
        {
          "output_type": "display_data",
          "data": {
            "text/plain": [
              "<PIL.Image.Image image mode=RGB size=136x102>"
            ],
            "image/png": "[encoded data removed]"
          },
          "metadata": {}
        }
      ]
    },
    {
      "cell_type": "code",
      "source": [
        "import os\n",
        "import cv2\n",
        "import torch\n",
        "import torchvision.transforms as transforms\n",
        "from PIL import Image\n",
        "from torchvision import models\n",
        "from sklearn.cluster import KMeans\n",
        "\n",
        "# Function to extract features from images using a pre-trained CNN model\n",
        "def extract_features(images_path):\n",
        "    transform = transforms.Compose([\n",
        "        transforms.Resize(224),\n",
        "        transforms.CenterCrop(224),\n",
        "        transforms.ToTensor(),\n",
        "        transforms.Normalize(mean=[0.485, 0.456, 0.406], std=[0.229, 0.224, 0.225]),\n",
        "    ])\n",
        "\n",
        "    model = models.resnet50(pretrained=True)\n",
        "    model = model.eval()\n",
        "\n",
        "    feature_vectors = []\n",
        "    for image_path in images_path:\n",
        "        image = cv2.imread(image_path)\n",
        "        if image is None:\n",
        "            print(f\"Failed to read image: {image_path}\")\n",
        "        image = cv2.cvtColor(image, cv2.COLOR_BGR2RGB)  # OpenCV reads images in BGR, convert to RGB\n",
        "        pil_image = Image.fromarray(image)  # Convert NumPy array to PIL image\n",
        "        image = transform(pil_image).unsqueeze(0)  # Add a batch dimension\n",
        "\n",
        "        with torch.no_grad():\n",
        "            feature_vector = model(image)\n",
        "            feature_vectors.append(feature_vector.squeeze().numpy())\n",
        "\n",
        "    return feature_vectors\n",
        "\n",
        "# Function to perform K-means clustering on feature vectors\n",
        "def kmeans_clustering(feature_vectors, num_clusters=3):\n",
        "    kmeans = KMeans(n_clusters=num_clusters)\n",
        "    kmeans.fit(feature_vectors)\n",
        "    return kmeans.labels_\n",
        "\n",
        "# Function to move images to their corresponding subdirectories\n",
        "def move_images_to_subdirectories(image_paths, labels, output_dir):\n",
        "    for label, image_path in zip(labels, image_paths):\n",
        "        category = 'shoes' if label == 0 else 'boots' if label == 1 else 'sandals'\n",
        "        destination_dir = os.path.join(output_dir, category)\n",
        "        os.makedirs(destination_dir, exist_ok=True)\n",
        "\n",
        "        # Extract the image filename from the full path\n",
        "        image_filename = os.path.basename(image_path)\n",
        "        destination_path = os.path.join(destination_dir, image_filename)\n",
        "\n",
        "        # Move the image to the corresponding subdirectory\n",
        "        os.rename(image_path, destination_path)\n",
        "\n"
      ],
      "metadata": {
        "id": "tI8nEx6f7Lm6"
      },
      "execution_count": null,
      "outputs": []
    },
    {
      "cell_type": "code",
      "source": [
        "# Main function\n",
        "def main():\n",
        "    # Path to the directory containing all the images\n",
        "    images_directory = \"/content/data/shoes60\"\n",
        "\n",
        "    # Path to the output directory where the images will be separated into subdirectories\n",
        "    output_directory = \"/content/data/separated_folders\"\n",
        "\n",
        "    # Extract features from the images\n",
        "    image_paths = [os.path.join(images_directory, image_file) for image_file in os.listdir(images_directory)]\n",
        "    feature_vectors = extract_features(image_paths)\n",
        "\n",
        "    # Perform K-means clustering\n",
        "    num_clusters = 3  # Three clusters for shoes, boots, and sandals\n",
        "    labels = kmeans_clustering(feature_vectors, num_clusters)\n",
        "\n",
        "    # Move images to their corresponding subdirectories\n",
        "    move_images_to_subdirectories(image_paths, labels, output_directory)\n",
        "\n",
        "if __name__ == \"__main__\":\n",
        "    main()"
      ],
      "metadata": {
        "colab": {
          "base_uri": "https://localhost:8080/"
        },
        "id": "dsxa8wdM7UfS",
        "outputId": "65927403-d8b7-4313-a62f-d16b72013b9b"
      },
      "execution_count": null,
      "outputs": [
        {
          "output_type": "stream",
          "name": "stderr",
          "text": [
            "/usr/local/lib/python3.10/dist-packages/torchvision/models/_utils.py:208: UserWarning: The parameter 'pretrained' is deprecated since 0.13 and may be removed in the future, please use 'weights' instead.\n",
            "  warnings.warn(\n",
            "/usr/local/lib/python3.10/dist-packages/torchvision/models/_utils.py:223: UserWarning: Arguments other than a weight enum or `None` for 'weights' are deprecated since 0.13 and may be removed in the future. The current behavior is equivalent to passing `weights=ResNet50_Weights.IMAGENET1K_V1`. You can also use `weights=ResNet50_Weights.DEFAULT` to get the most up-to-date weights.\n",
            "  warnings.warn(msg)\n",
            "Downloading: \"https://download.pytorch.org/models/resnet50-0676ba61.pth\" to /root/.cache/torch/hub/checkpoints/resnet50-0676ba61.pth\n",
            "100%|██████████| 97.8M/97.8M [00:01<00:00, 85.0MB/s]\n",
            "/usr/local/lib/python3.10/dist-packages/sklearn/cluster/_kmeans.py:870: FutureWarning: The default value of `n_init` will change from 10 to 'auto' in 1.4. Set the value of `n_init` explicitly to suppress the warning\n",
            "  warnings.warn(\n"
          ]
        }
      ]
    },
    {
      "cell_type": "code",
      "source": [],
      "metadata": {
        "id": "kFba8lQ78Z3v"
      },
      "execution_count": null,
      "outputs": []
    }
  ],
  "metadata": {
    "colab": {
      "provenance": []
    },
    "kernelspec": {
      "display_name": "Python 3",
      "name": "python3"
    },
    "language_info": {
      "name": "python"
    }
  },
  "nbformat": 4,
  "nbformat_minor": 0
}